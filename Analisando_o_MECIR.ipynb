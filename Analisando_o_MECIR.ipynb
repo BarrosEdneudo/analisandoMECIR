{
  "nbformat": 4,
  "nbformat_minor": 0,
  "metadata": {
    "colab": {
      "provenance": [],
      "toc_visible": true,
      "collapsed_sections": [
        "kpLp8ygzBwLB",
        "CUCZjheKBnCh"
      ]
    },
    "kernelspec": {
      "name": "python3",
      "display_name": "Python 3"
    },
    "language_info": {
      "name": "python"
    }
  },
  "cells": [
    {
      "cell_type": "markdown",
      "source": [
        "# Conhecendo os dados"
      ],
      "metadata": {
        "id": "kpLp8ygzBwLB"
      }
    },
    {
      "cell_type": "markdown",
      "source": [
        "O objetivo desse notebook é fazer uma análise exploratória na base de dados [Dinheiro em circulação – v1.0](https://dados.gov.br/dataset/dinheiro-em-circulacao) do [BACEN](https://www.bcb.gov.br/), que representa o meio circulante nacional."
      ],
      "metadata": {
        "id": "6R16SMYe8Toj"
      }
    },
    {
      "cell_type": "markdown",
      "source": [
        "## O que é o **Meio circulante?**\n",
        "\n",
        "As cédulas e moedas metálicas (inclusive as comemorativas) do padrão monetário Real, que estão em poder do público e da rede bancária, constituem o meio circulante nacional.\n",
        "\n",
        "Diariamente, são feitas movimentações que alteram a **quantidade** e **composição** do numerário em circulação. O presente conjunto de dados tem por objetivo apresentar as quantidades diárias por Valor da Denominação (valor de face) e Família (espécie e categoria)."
      ],
      "metadata": {
        "id": "ES6cHDRu9ox7"
      }
    },
    {
      "cell_type": "markdown",
      "source": [
        "# Preparando o ambiente"
      ],
      "metadata": {
        "id": "CUCZjheKBnCh"
      }
    },
    {
      "cell_type": "markdown",
      "source": [
        "O primeiro passo é baixar a base de dados. Trata-se de arquivo CSV contendo informações de meio circulante compreendidas de 02/01/1995 a 07/10/2022."
      ],
      "metadata": {
        "id": "Otxrxd8w-IJc"
      }
    },
    {
      "cell_type": "code",
      "source": [
        "# Upload do arquivo (renomei como mecir.csv), após baixá-lo no endereço acima.\n",
        "from google.colab import files\n",
        "arq = files.upload()"
      ],
      "metadata": {
        "colab": {
          "base_uri": "https://localhost:8080/",
          "height": 74
        },
        "id": "7IPJkccv-vAe",
        "outputId": "4a5d8565-11af-4ce8-f6b9-93f13975775b"
      },
      "execution_count": null,
      "outputs": [
        {
          "output_type": "display_data",
          "data": {
            "text/plain": [
              "<IPython.core.display.HTML object>"
            ],
            "text/html": [
              "\n",
              "     <input type=\"file\" id=\"files-c3bb07b9-a199-4434-b449-c0695d6245de\" name=\"files[]\" multiple disabled\n",
              "        style=\"border:none\" />\n",
              "     <output id=\"result-c3bb07b9-a199-4434-b449-c0695d6245de\">\n",
              "      Upload widget is only available when the cell has been executed in the\n",
              "      current browser session. Please rerun this cell to enable.\n",
              "      </output>\n",
              "      <script>// Copyright 2017 Google LLC\n",
              "//\n",
              "// Licensed under the Apache License, Version 2.0 (the \"License\");\n",
              "// you may not use this file except in compliance with the License.\n",
              "// You may obtain a copy of the License at\n",
              "//\n",
              "//      http://www.apache.org/licenses/LICENSE-2.0\n",
              "//\n",
              "// Unless required by applicable law or agreed to in writing, software\n",
              "// distributed under the License is distributed on an \"AS IS\" BASIS,\n",
              "// WITHOUT WARRANTIES OR CONDITIONS OF ANY KIND, either express or implied.\n",
              "// See the License for the specific language governing permissions and\n",
              "// limitations under the License.\n",
              "\n",
              "/**\n",
              " * @fileoverview Helpers for google.colab Python module.\n",
              " */\n",
              "(function(scope) {\n",
              "function span(text, styleAttributes = {}) {\n",
              "  const element = document.createElement('span');\n",
              "  element.textContent = text;\n",
              "  for (const key of Object.keys(styleAttributes)) {\n",
              "    element.style[key] = styleAttributes[key];\n",
              "  }\n",
              "  return element;\n",
              "}\n",
              "\n",
              "// Max number of bytes which will be uploaded at a time.\n",
              "const MAX_PAYLOAD_SIZE = 100 * 1024;\n",
              "\n",
              "function _uploadFiles(inputId, outputId) {\n",
              "  const steps = uploadFilesStep(inputId, outputId);\n",
              "  const outputElement = document.getElementById(outputId);\n",
              "  // Cache steps on the outputElement to make it available for the next call\n",
              "  // to uploadFilesContinue from Python.\n",
              "  outputElement.steps = steps;\n",
              "\n",
              "  return _uploadFilesContinue(outputId);\n",
              "}\n",
              "\n",
              "// This is roughly an async generator (not supported in the browser yet),\n",
              "// where there are multiple asynchronous steps and the Python side is going\n",
              "// to poll for completion of each step.\n",
              "// This uses a Promise to block the python side on completion of each step,\n",
              "// then passes the result of the previous step as the input to the next step.\n",
              "function _uploadFilesContinue(outputId) {\n",
              "  const outputElement = document.getElementById(outputId);\n",
              "  const steps = outputElement.steps;\n",
              "\n",
              "  const next = steps.next(outputElement.lastPromiseValue);\n",
              "  return Promise.resolve(next.value.promise).then((value) => {\n",
              "    // Cache the last promise value to make it available to the next\n",
              "    // step of the generator.\n",
              "    outputElement.lastPromiseValue = value;\n",
              "    return next.value.response;\n",
              "  });\n",
              "}\n",
              "\n",
              "/**\n",
              " * Generator function which is called between each async step of the upload\n",
              " * process.\n",
              " * @param {string} inputId Element ID of the input file picker element.\n",
              " * @param {string} outputId Element ID of the output display.\n",
              " * @return {!Iterable<!Object>} Iterable of next steps.\n",
              " */\n",
              "function* uploadFilesStep(inputId, outputId) {\n",
              "  const inputElement = document.getElementById(inputId);\n",
              "  inputElement.disabled = false;\n",
              "\n",
              "  const outputElement = document.getElementById(outputId);\n",
              "  outputElement.innerHTML = '';\n",
              "\n",
              "  const pickedPromise = new Promise((resolve) => {\n",
              "    inputElement.addEventListener('change', (e) => {\n",
              "      resolve(e.target.files);\n",
              "    });\n",
              "  });\n",
              "\n",
              "  const cancel = document.createElement('button');\n",
              "  inputElement.parentElement.appendChild(cancel);\n",
              "  cancel.textContent = 'Cancel upload';\n",
              "  const cancelPromise = new Promise((resolve) => {\n",
              "    cancel.onclick = () => {\n",
              "      resolve(null);\n",
              "    };\n",
              "  });\n",
              "\n",
              "  // Wait for the user to pick the files.\n",
              "  const files = yield {\n",
              "    promise: Promise.race([pickedPromise, cancelPromise]),\n",
              "    response: {\n",
              "      action: 'starting',\n",
              "    }\n",
              "  };\n",
              "\n",
              "  cancel.remove();\n",
              "\n",
              "  // Disable the input element since further picks are not allowed.\n",
              "  inputElement.disabled = true;\n",
              "\n",
              "  if (!files) {\n",
              "    return {\n",
              "      response: {\n",
              "        action: 'complete',\n",
              "      }\n",
              "    };\n",
              "  }\n",
              "\n",
              "  for (const file of files) {\n",
              "    const li = document.createElement('li');\n",
              "    li.append(span(file.name, {fontWeight: 'bold'}));\n",
              "    li.append(span(\n",
              "        `(${file.type || 'n/a'}) - ${file.size} bytes, ` +\n",
              "        `last modified: ${\n",
              "            file.lastModifiedDate ? file.lastModifiedDate.toLocaleDateString() :\n",
              "                                    'n/a'} - `));\n",
              "    const percent = span('0% done');\n",
              "    li.appendChild(percent);\n",
              "\n",
              "    outputElement.appendChild(li);\n",
              "\n",
              "    const fileDataPromise = new Promise((resolve) => {\n",
              "      const reader = new FileReader();\n",
              "      reader.onload = (e) => {\n",
              "        resolve(e.target.result);\n",
              "      };\n",
              "      reader.readAsArrayBuffer(file);\n",
              "    });\n",
              "    // Wait for the data to be ready.\n",
              "    let fileData = yield {\n",
              "      promise: fileDataPromise,\n",
              "      response: {\n",
              "        action: 'continue',\n",
              "      }\n",
              "    };\n",
              "\n",
              "    // Use a chunked sending to avoid message size limits. See b/62115660.\n",
              "    let position = 0;\n",
              "    do {\n",
              "      const length = Math.min(fileData.byteLength - position, MAX_PAYLOAD_SIZE);\n",
              "      const chunk = new Uint8Array(fileData, position, length);\n",
              "      position += length;\n",
              "\n",
              "      const base64 = btoa(String.fromCharCode.apply(null, chunk));\n",
              "      yield {\n",
              "        response: {\n",
              "          action: 'append',\n",
              "          file: file.name,\n",
              "          data: base64,\n",
              "        },\n",
              "      };\n",
              "\n",
              "      let percentDone = fileData.byteLength === 0 ?\n",
              "          100 :\n",
              "          Math.round((position / fileData.byteLength) * 100);\n",
              "      percent.textContent = `${percentDone}% done`;\n",
              "\n",
              "    } while (position < fileData.byteLength);\n",
              "  }\n",
              "\n",
              "  // All done.\n",
              "  yield {\n",
              "    response: {\n",
              "      action: 'complete',\n",
              "    }\n",
              "  };\n",
              "}\n",
              "\n",
              "scope.google = scope.google || {};\n",
              "scope.google.colab = scope.google.colab || {};\n",
              "scope.google.colab._files = {\n",
              "  _uploadFiles,\n",
              "  _uploadFilesContinue,\n",
              "};\n",
              "})(self);\n",
              "</script> "
            ]
          },
          "metadata": {}
        },
        {
          "output_type": "stream",
          "name": "stdout",
          "text": [
            "Saving mecir.csv to mecir.csv\n"
          ]
        }
      ]
    },
    {
      "cell_type": "code",
      "source": [
        "# Importando as bibliotecas que serão utilizadas.\n",
        "from datetime import datetime\n",
        "import pandas as pd\n",
        "import matplotlib.pyplot as plt\n",
        "plt.style.use(\"seaborn\")\n"
      ],
      "metadata": {
        "id": "1UNz53vBBPJo"
      },
      "execution_count": null,
      "outputs": []
    },
    {
      "cell_type": "code",
      "source": [
        "# Configurando a visualização de casas decimais.\n",
        "pd.options.display.float_format = '{:.2f}'.format\n"
      ],
      "metadata": {
        "id": "CcXulGLo2OZZ"
      },
      "execution_count": null,
      "outputs": []
    },
    {
      "cell_type": "code",
      "source": [
        "# Criando nosso DataFrame\n",
        "# Com o arquivo importado, vamos salvar em uma variável para podermos trabalhar com os dados.\n",
        "df = pd.read_csv(\"mecir.csv\")"
      ],
      "metadata": {
        "id": "J2oAp62bCdJZ"
      },
      "execution_count": null,
      "outputs": []
    },
    {
      "cell_type": "markdown",
      "source": [
        "Agora que o arquivo está disponível no ambiente, podemos começar a análise."
      ],
      "metadata": {
        "id": "LQ5SaYY9BH5s"
      }
    },
    {
      "cell_type": "markdown",
      "source": [
        "# Primeiras análises"
      ],
      "metadata": {
        "id": "t_JqPBqbBgST"
      }
    },
    {
      "cell_type": "code",
      "source": [
        "# Visualizando as 5 primeiras linhas.\n",
        "df.head()\n"
      ],
      "metadata": {
        "colab": {
          "base_uri": "https://localhost:8080/",
          "height": 206
        },
        "id": "_fsUhNOHDaFR",
        "outputId": "a05f9501-0950-4175-9cca-c114e112ffee"
      },
      "execution_count": null,
      "outputs": [
        {
          "output_type": "execute_result",
          "data": {
            "text/plain": [
              "       02/01/1995;Moedas - 1a. Família (inox);0  01;834342314\n",
              "0      02/01/1995;Moedas - 1a. Família (inox);0  05;636711876\n",
              "1      02/01/1995;Moedas - 1a. Família (inox);0   1;583076666\n",
              "2      02/01/1995;Moedas - 1a. Família (inox);0  25;146883388\n",
              "3      02/01/1995;Moedas - 1a. Família (inox);0   5;329791540\n",
              "4  02/01/1995;Cédulas - 1a. família;1;276894464           NaN"
            ],
            "text/html": [
              "\n",
              "  <div id=\"df-314f9a50-4b57-481f-9d4f-73ca3072a738\">\n",
              "    <div class=\"colab-df-container\">\n",
              "      <div>\n",
              "<style scoped>\n",
              "    .dataframe tbody tr th:only-of-type {\n",
              "        vertical-align: middle;\n",
              "    }\n",
              "\n",
              "    .dataframe tbody tr th {\n",
              "        vertical-align: top;\n",
              "    }\n",
              "\n",
              "    .dataframe thead th {\n",
              "        text-align: right;\n",
              "    }\n",
              "</style>\n",
              "<table border=\"1\" class=\"dataframe\">\n",
              "  <thead>\n",
              "    <tr style=\"text-align: right;\">\n",
              "      <th></th>\n",
              "      <th>02/01/1995;Moedas - 1a. Família (inox);0</th>\n",
              "      <th>01;834342314</th>\n",
              "    </tr>\n",
              "  </thead>\n",
              "  <tbody>\n",
              "    <tr>\n",
              "      <th>0</th>\n",
              "      <td>02/01/1995;Moedas - 1a. Família (inox);0</td>\n",
              "      <td>05;636711876</td>\n",
              "    </tr>\n",
              "    <tr>\n",
              "      <th>1</th>\n",
              "      <td>02/01/1995;Moedas - 1a. Família (inox);0</td>\n",
              "      <td>1;583076666</td>\n",
              "    </tr>\n",
              "    <tr>\n",
              "      <th>2</th>\n",
              "      <td>02/01/1995;Moedas - 1a. Família (inox);0</td>\n",
              "      <td>25;146883388</td>\n",
              "    </tr>\n",
              "    <tr>\n",
              "      <th>3</th>\n",
              "      <td>02/01/1995;Moedas - 1a. Família (inox);0</td>\n",
              "      <td>5;329791540</td>\n",
              "    </tr>\n",
              "    <tr>\n",
              "      <th>4</th>\n",
              "      <td>02/01/1995;Cédulas - 1a. família;1;276894464</td>\n",
              "      <td>NaN</td>\n",
              "    </tr>\n",
              "  </tbody>\n",
              "</table>\n",
              "</div>\n",
              "      <button class=\"colab-df-convert\" onclick=\"convertToInteractive('df-314f9a50-4b57-481f-9d4f-73ca3072a738')\"\n",
              "              title=\"Convert this dataframe to an interactive table.\"\n",
              "              style=\"display:none;\">\n",
              "        \n",
              "  <svg xmlns=\"http://www.w3.org/2000/svg\" height=\"24px\"viewBox=\"0 0 24 24\"\n",
              "       width=\"24px\">\n",
              "    <path d=\"M0 0h24v24H0V0z\" fill=\"none\"/>\n",
              "    <path d=\"M18.56 5.44l.94 2.06.94-2.06 2.06-.94-2.06-.94-.94-2.06-.94 2.06-2.06.94zm-11 1L8.5 8.5l.94-2.06 2.06-.94-2.06-.94L8.5 2.5l-.94 2.06-2.06.94zm10 10l.94 2.06.94-2.06 2.06-.94-2.06-.94-.94-2.06-.94 2.06-2.06.94z\"/><path d=\"M17.41 7.96l-1.37-1.37c-.4-.4-.92-.59-1.43-.59-.52 0-1.04.2-1.43.59L10.3 9.45l-7.72 7.72c-.78.78-.78 2.05 0 2.83L4 21.41c.39.39.9.59 1.41.59.51 0 1.02-.2 1.41-.59l7.78-7.78 2.81-2.81c.8-.78.8-2.07 0-2.86zM5.41 20L4 18.59l7.72-7.72 1.47 1.35L5.41 20z\"/>\n",
              "  </svg>\n",
              "      </button>\n",
              "      \n",
              "  <style>\n",
              "    .colab-df-container {\n",
              "      display:flex;\n",
              "      flex-wrap:wrap;\n",
              "      gap: 12px;\n",
              "    }\n",
              "\n",
              "    .colab-df-convert {\n",
              "      background-color: #E8F0FE;\n",
              "      border: none;\n",
              "      border-radius: 50%;\n",
              "      cursor: pointer;\n",
              "      display: none;\n",
              "      fill: #1967D2;\n",
              "      height: 32px;\n",
              "      padding: 0 0 0 0;\n",
              "      width: 32px;\n",
              "    }\n",
              "\n",
              "    .colab-df-convert:hover {\n",
              "      background-color: #E2EBFA;\n",
              "      box-shadow: 0px 1px 2px rgba(60, 64, 67, 0.3), 0px 1px 3px 1px rgba(60, 64, 67, 0.15);\n",
              "      fill: #174EA6;\n",
              "    }\n",
              "\n",
              "    [theme=dark] .colab-df-convert {\n",
              "      background-color: #3B4455;\n",
              "      fill: #D2E3FC;\n",
              "    }\n",
              "\n",
              "    [theme=dark] .colab-df-convert:hover {\n",
              "      background-color: #434B5C;\n",
              "      box-shadow: 0px 1px 3px 1px rgba(0, 0, 0, 0.15);\n",
              "      filter: drop-shadow(0px 1px 2px rgba(0, 0, 0, 0.3));\n",
              "      fill: #FFFFFF;\n",
              "    }\n",
              "  </style>\n",
              "\n",
              "      <script>\n",
              "        const buttonEl =\n",
              "          document.querySelector('#df-314f9a50-4b57-481f-9d4f-73ca3072a738 button.colab-df-convert');\n",
              "        buttonEl.style.display =\n",
              "          google.colab.kernel.accessAllowed ? 'block' : 'none';\n",
              "\n",
              "        async function convertToInteractive(key) {\n",
              "          const element = document.querySelector('#df-314f9a50-4b57-481f-9d4f-73ca3072a738');\n",
              "          const dataTable =\n",
              "            await google.colab.kernel.invokeFunction('convertToInteractive',\n",
              "                                                     [key], {});\n",
              "          if (!dataTable) return;\n",
              "\n",
              "          const docLinkHtml = 'Like what you see? Visit the ' +\n",
              "            '<a target=\"_blank\" href=https://colab.research.google.com/notebooks/data_table.ipynb>data table notebook</a>'\n",
              "            + ' to learn more about interactive tables.';\n",
              "          element.innerHTML = '';\n",
              "          dataTable['output_type'] = 'display_data';\n",
              "          await google.colab.output.renderOutput(dataTable, element);\n",
              "          const docLink = document.createElement('div');\n",
              "          docLink.innerHTML = docLinkHtml;\n",
              "          element.appendChild(docLink);\n",
              "        }\n",
              "      </script>\n",
              "    </div>\n",
              "  </div>\n",
              "  "
            ]
          },
          "metadata": {},
          "execution_count": 6
        }
      ]
    },
    {
      "cell_type": "markdown",
      "source": [
        "Como já dissemos, os dados a serem analizados estão em um arquivo CSV. Um arquivo CSV contém uma classificação tabular de dados em que cada linha contém valores separados por vírgula. Ao executar o código acima, percebemos que o arquivo de dados estava separado, na verdade, por ponto e vírgula (;). Precisamos refazer a leitura do nosso arquivo, alterando alguns parâmetros Já que o padrão do read_csv é considerar a vírgula (,) como separador de colunas e também não há cabeçalho no arquivo de dados, precisamos refazer a leitura do arquivo para o dataframe, informando essas características de nosso arquivo."
      ],
      "metadata": {
        "id": "vpd9CsF4FGKF"
      }
    },
    {
      "cell_type": "code",
      "source": [
        "\n",
        "df = pd.read_csv(\"mecir.csv\",\n",
        "                 # A linha abaixo informa qual o separador de colunas no arquivo\n",
        "                 sep=\";\",\n",
        "\n",
        "                 # Informa qual o separador de casas decimais.\n",
        "                 decimal = \",\",\n",
        "\n",
        "                 # Inclui cabeçalhos nas colunas\n",
        "                 names=[\"data\",\"familia\",\"denominacao\",\"quantidade\"],\n",
        "\n",
        "                 # Informa qual o tipo de dados em cada coluna\n",
        "                 dtype={\"data\":object,\"familia\":object,\"denominacao\":float,\"quantidade\":int}\n",
        "                 )\n",
        "\n",
        "# Perceba que no último parâmetro, dissemos que a coluna data é 'object', ao invés de 'datetime'.\n",
        "# Fizemos isso, propositalmente, para convertermos posteriormente e de maneira mais refinada.\n"
      ],
      "metadata": {
        "id": "YYQaj7CiF45R"
      },
      "execution_count": null,
      "outputs": []
    },
    {
      "cell_type": "code",
      "source": [
        "# Visualizando as 5 primeiras linhas.\n",
        "\n",
        "df.head()"
      ],
      "metadata": {
        "colab": {
          "base_uri": "https://localhost:8080/",
          "height": 206
        },
        "id": "ZjUlpPdBF8q5",
        "outputId": "327df88b-5496-47d3-daa2-eb46f9a5180a"
      },
      "execution_count": null,
      "outputs": [
        {
          "output_type": "execute_result",
          "data": {
            "text/plain": [
              "         data                      familia  denominacao  quantidade\n",
              "0  02/01/1995  Moedas - 1a. Família (inox)         0.01   834342314\n",
              "1  02/01/1995  Moedas - 1a. Família (inox)         0.05   636711876\n",
              "2  02/01/1995  Moedas - 1a. Família (inox)         0.10   583076666\n",
              "3  02/01/1995  Moedas - 1a. Família (inox)         0.25   146883388\n",
              "4  02/01/1995  Moedas - 1a. Família (inox)         0.50   329791540"
            ],
            "text/html": [
              "\n",
              "  <div id=\"df-ee9b49c2-6d19-41b8-b182-b0fbabf9dc72\">\n",
              "    <div class=\"colab-df-container\">\n",
              "      <div>\n",
              "<style scoped>\n",
              "    .dataframe tbody tr th:only-of-type {\n",
              "        vertical-align: middle;\n",
              "    }\n",
              "\n",
              "    .dataframe tbody tr th {\n",
              "        vertical-align: top;\n",
              "    }\n",
              "\n",
              "    .dataframe thead th {\n",
              "        text-align: right;\n",
              "    }\n",
              "</style>\n",
              "<table border=\"1\" class=\"dataframe\">\n",
              "  <thead>\n",
              "    <tr style=\"text-align: right;\">\n",
              "      <th></th>\n",
              "      <th>data</th>\n",
              "      <th>familia</th>\n",
              "      <th>denominacao</th>\n",
              "      <th>quantidade</th>\n",
              "    </tr>\n",
              "  </thead>\n",
              "  <tbody>\n",
              "    <tr>\n",
              "      <th>0</th>\n",
              "      <td>02/01/1995</td>\n",
              "      <td>Moedas - 1a. Família (inox)</td>\n",
              "      <td>0.01</td>\n",
              "      <td>834342314</td>\n",
              "    </tr>\n",
              "    <tr>\n",
              "      <th>1</th>\n",
              "      <td>02/01/1995</td>\n",
              "      <td>Moedas - 1a. Família (inox)</td>\n",
              "      <td>0.05</td>\n",
              "      <td>636711876</td>\n",
              "    </tr>\n",
              "    <tr>\n",
              "      <th>2</th>\n",
              "      <td>02/01/1995</td>\n",
              "      <td>Moedas - 1a. Família (inox)</td>\n",
              "      <td>0.10</td>\n",
              "      <td>583076666</td>\n",
              "    </tr>\n",
              "    <tr>\n",
              "      <th>3</th>\n",
              "      <td>02/01/1995</td>\n",
              "      <td>Moedas - 1a. Família (inox)</td>\n",
              "      <td>0.25</td>\n",
              "      <td>146883388</td>\n",
              "    </tr>\n",
              "    <tr>\n",
              "      <th>4</th>\n",
              "      <td>02/01/1995</td>\n",
              "      <td>Moedas - 1a. Família (inox)</td>\n",
              "      <td>0.50</td>\n",
              "      <td>329791540</td>\n",
              "    </tr>\n",
              "  </tbody>\n",
              "</table>\n",
              "</div>\n",
              "      <button class=\"colab-df-convert\" onclick=\"convertToInteractive('df-ee9b49c2-6d19-41b8-b182-b0fbabf9dc72')\"\n",
              "              title=\"Convert this dataframe to an interactive table.\"\n",
              "              style=\"display:none;\">\n",
              "        \n",
              "  <svg xmlns=\"http://www.w3.org/2000/svg\" height=\"24px\"viewBox=\"0 0 24 24\"\n",
              "       width=\"24px\">\n",
              "    <path d=\"M0 0h24v24H0V0z\" fill=\"none\"/>\n",
              "    <path d=\"M18.56 5.44l.94 2.06.94-2.06 2.06-.94-2.06-.94-.94-2.06-.94 2.06-2.06.94zm-11 1L8.5 8.5l.94-2.06 2.06-.94-2.06-.94L8.5 2.5l-.94 2.06-2.06.94zm10 10l.94 2.06.94-2.06 2.06-.94-2.06-.94-.94-2.06-.94 2.06-2.06.94z\"/><path d=\"M17.41 7.96l-1.37-1.37c-.4-.4-.92-.59-1.43-.59-.52 0-1.04.2-1.43.59L10.3 9.45l-7.72 7.72c-.78.78-.78 2.05 0 2.83L4 21.41c.39.39.9.59 1.41.59.51 0 1.02-.2 1.41-.59l7.78-7.78 2.81-2.81c.8-.78.8-2.07 0-2.86zM5.41 20L4 18.59l7.72-7.72 1.47 1.35L5.41 20z\"/>\n",
              "  </svg>\n",
              "      </button>\n",
              "      \n",
              "  <style>\n",
              "    .colab-df-container {\n",
              "      display:flex;\n",
              "      flex-wrap:wrap;\n",
              "      gap: 12px;\n",
              "    }\n",
              "\n",
              "    .colab-df-convert {\n",
              "      background-color: #E8F0FE;\n",
              "      border: none;\n",
              "      border-radius: 50%;\n",
              "      cursor: pointer;\n",
              "      display: none;\n",
              "      fill: #1967D2;\n",
              "      height: 32px;\n",
              "      padding: 0 0 0 0;\n",
              "      width: 32px;\n",
              "    }\n",
              "\n",
              "    .colab-df-convert:hover {\n",
              "      background-color: #E2EBFA;\n",
              "      box-shadow: 0px 1px 2px rgba(60, 64, 67, 0.3), 0px 1px 3px 1px rgba(60, 64, 67, 0.15);\n",
              "      fill: #174EA6;\n",
              "    }\n",
              "\n",
              "    [theme=dark] .colab-df-convert {\n",
              "      background-color: #3B4455;\n",
              "      fill: #D2E3FC;\n",
              "    }\n",
              "\n",
              "    [theme=dark] .colab-df-convert:hover {\n",
              "      background-color: #434B5C;\n",
              "      box-shadow: 0px 1px 3px 1px rgba(0, 0, 0, 0.15);\n",
              "      filter: drop-shadow(0px 1px 2px rgba(0, 0, 0, 0.3));\n",
              "      fill: #FFFFFF;\n",
              "    }\n",
              "  </style>\n",
              "\n",
              "      <script>\n",
              "        const buttonEl =\n",
              "          document.querySelector('#df-ee9b49c2-6d19-41b8-b182-b0fbabf9dc72 button.colab-df-convert');\n",
              "        buttonEl.style.display =\n",
              "          google.colab.kernel.accessAllowed ? 'block' : 'none';\n",
              "\n",
              "        async function convertToInteractive(key) {\n",
              "          const element = document.querySelector('#df-ee9b49c2-6d19-41b8-b182-b0fbabf9dc72');\n",
              "          const dataTable =\n",
              "            await google.colab.kernel.invokeFunction('convertToInteractive',\n",
              "                                                     [key], {});\n",
              "          if (!dataTable) return;\n",
              "\n",
              "          const docLinkHtml = 'Like what you see? Visit the ' +\n",
              "            '<a target=\"_blank\" href=https://colab.research.google.com/notebooks/data_table.ipynb>data table notebook</a>'\n",
              "            + ' to learn more about interactive tables.';\n",
              "          element.innerHTML = '';\n",
              "          dataTable['output_type'] = 'display_data';\n",
              "          await google.colab.output.renderOutput(dataTable, element);\n",
              "          const docLink = document.createElement('div');\n",
              "          docLink.innerHTML = docLinkHtml;\n",
              "          element.appendChild(docLink);\n",
              "        }\n",
              "      </script>\n",
              "    </div>\n",
              "  </div>\n",
              "  "
            ]
          },
          "metadata": {},
          "execution_count": 8
        }
      ]
    },
    {
      "cell_type": "code",
      "source": [
        "# Visualizando as 5 últimas linhas.\n",
        "\n",
        "df.tail()"
      ],
      "metadata": {
        "colab": {
          "base_uri": "https://localhost:8080/",
          "height": 206
        },
        "id": "9zHXydKqgLR1",
        "outputId": "10a05d68-4ba7-4563-b682-8ae78e0038c3"
      },
      "execution_count": null,
      "outputs": [
        {
          "output_type": "execute_result",
          "data": {
            "text/plain": [
              "              data                familia  denominacao  quantidade\n",
              "424863  07/10/2022  Cédulas - 1a. família        50.00    55308972\n",
              "424864  07/10/2022  Cédulas - 2a. família        50.00  1800171017\n",
              "424865  07/10/2022  Cédulas - 1a. família       100.00    13474920\n",
              "424866  07/10/2022  Cédulas - 2a. família       100.00  1739479820\n",
              "424867  07/10/2022  Cédulas - 2a. família       200.00   110924844"
            ],
            "text/html": [
              "\n",
              "  <div id=\"df-c87bd259-786f-4038-99e9-e26f5427795b\">\n",
              "    <div class=\"colab-df-container\">\n",
              "      <div>\n",
              "<style scoped>\n",
              "    .dataframe tbody tr th:only-of-type {\n",
              "        vertical-align: middle;\n",
              "    }\n",
              "\n",
              "    .dataframe tbody tr th {\n",
              "        vertical-align: top;\n",
              "    }\n",
              "\n",
              "    .dataframe thead th {\n",
              "        text-align: right;\n",
              "    }\n",
              "</style>\n",
              "<table border=\"1\" class=\"dataframe\">\n",
              "  <thead>\n",
              "    <tr style=\"text-align: right;\">\n",
              "      <th></th>\n",
              "      <th>data</th>\n",
              "      <th>familia</th>\n",
              "      <th>denominacao</th>\n",
              "      <th>quantidade</th>\n",
              "    </tr>\n",
              "  </thead>\n",
              "  <tbody>\n",
              "    <tr>\n",
              "      <th>424863</th>\n",
              "      <td>07/10/2022</td>\n",
              "      <td>Cédulas - 1a. família</td>\n",
              "      <td>50.00</td>\n",
              "      <td>55308972</td>\n",
              "    </tr>\n",
              "    <tr>\n",
              "      <th>424864</th>\n",
              "      <td>07/10/2022</td>\n",
              "      <td>Cédulas - 2a. família</td>\n",
              "      <td>50.00</td>\n",
              "      <td>1800171017</td>\n",
              "    </tr>\n",
              "    <tr>\n",
              "      <th>424865</th>\n",
              "      <td>07/10/2022</td>\n",
              "      <td>Cédulas - 1a. família</td>\n",
              "      <td>100.00</td>\n",
              "      <td>13474920</td>\n",
              "    </tr>\n",
              "    <tr>\n",
              "      <th>424866</th>\n",
              "      <td>07/10/2022</td>\n",
              "      <td>Cédulas - 2a. família</td>\n",
              "      <td>100.00</td>\n",
              "      <td>1739479820</td>\n",
              "    </tr>\n",
              "    <tr>\n",
              "      <th>424867</th>\n",
              "      <td>07/10/2022</td>\n",
              "      <td>Cédulas - 2a. família</td>\n",
              "      <td>200.00</td>\n",
              "      <td>110924844</td>\n",
              "    </tr>\n",
              "  </tbody>\n",
              "</table>\n",
              "</div>\n",
              "      <button class=\"colab-df-convert\" onclick=\"convertToInteractive('df-c87bd259-786f-4038-99e9-e26f5427795b')\"\n",
              "              title=\"Convert this dataframe to an interactive table.\"\n",
              "              style=\"display:none;\">\n",
              "        \n",
              "  <svg xmlns=\"http://www.w3.org/2000/svg\" height=\"24px\"viewBox=\"0 0 24 24\"\n",
              "       width=\"24px\">\n",
              "    <path d=\"M0 0h24v24H0V0z\" fill=\"none\"/>\n",
              "    <path d=\"M18.56 5.44l.94 2.06.94-2.06 2.06-.94-2.06-.94-.94-2.06-.94 2.06-2.06.94zm-11 1L8.5 8.5l.94-2.06 2.06-.94-2.06-.94L8.5 2.5l-.94 2.06-2.06.94zm10 10l.94 2.06.94-2.06 2.06-.94-2.06-.94-.94-2.06-.94 2.06-2.06.94z\"/><path d=\"M17.41 7.96l-1.37-1.37c-.4-.4-.92-.59-1.43-.59-.52 0-1.04.2-1.43.59L10.3 9.45l-7.72 7.72c-.78.78-.78 2.05 0 2.83L4 21.41c.39.39.9.59 1.41.59.51 0 1.02-.2 1.41-.59l7.78-7.78 2.81-2.81c.8-.78.8-2.07 0-2.86zM5.41 20L4 18.59l7.72-7.72 1.47 1.35L5.41 20z\"/>\n",
              "  </svg>\n",
              "      </button>\n",
              "      \n",
              "  <style>\n",
              "    .colab-df-container {\n",
              "      display:flex;\n",
              "      flex-wrap:wrap;\n",
              "      gap: 12px;\n",
              "    }\n",
              "\n",
              "    .colab-df-convert {\n",
              "      background-color: #E8F0FE;\n",
              "      border: none;\n",
              "      border-radius: 50%;\n",
              "      cursor: pointer;\n",
              "      display: none;\n",
              "      fill: #1967D2;\n",
              "      height: 32px;\n",
              "      padding: 0 0 0 0;\n",
              "      width: 32px;\n",
              "    }\n",
              "\n",
              "    .colab-df-convert:hover {\n",
              "      background-color: #E2EBFA;\n",
              "      box-shadow: 0px 1px 2px rgba(60, 64, 67, 0.3), 0px 1px 3px 1px rgba(60, 64, 67, 0.15);\n",
              "      fill: #174EA6;\n",
              "    }\n",
              "\n",
              "    [theme=dark] .colab-df-convert {\n",
              "      background-color: #3B4455;\n",
              "      fill: #D2E3FC;\n",
              "    }\n",
              "\n",
              "    [theme=dark] .colab-df-convert:hover {\n",
              "      background-color: #434B5C;\n",
              "      box-shadow: 0px 1px 3px 1px rgba(0, 0, 0, 0.15);\n",
              "      filter: drop-shadow(0px 1px 2px rgba(0, 0, 0, 0.3));\n",
              "      fill: #FFFFFF;\n",
              "    }\n",
              "  </style>\n",
              "\n",
              "      <script>\n",
              "        const buttonEl =\n",
              "          document.querySelector('#df-c87bd259-786f-4038-99e9-e26f5427795b button.colab-df-convert');\n",
              "        buttonEl.style.display =\n",
              "          google.colab.kernel.accessAllowed ? 'block' : 'none';\n",
              "\n",
              "        async function convertToInteractive(key) {\n",
              "          const element = document.querySelector('#df-c87bd259-786f-4038-99e9-e26f5427795b');\n",
              "          const dataTable =\n",
              "            await google.colab.kernel.invokeFunction('convertToInteractive',\n",
              "                                                     [key], {});\n",
              "          if (!dataTable) return;\n",
              "\n",
              "          const docLinkHtml = 'Like what you see? Visit the ' +\n",
              "            '<a target=\"_blank\" href=https://colab.research.google.com/notebooks/data_table.ipynb>data table notebook</a>'\n",
              "            + ' to learn more about interactive tables.';\n",
              "          element.innerHTML = '';\n",
              "          dataTable['output_type'] = 'display_data';\n",
              "          await google.colab.output.renderOutput(dataTable, element);\n",
              "          const docLink = document.createElement('div');\n",
              "          docLink.innerHTML = docLinkHtml;\n",
              "          element.appendChild(docLink);\n",
              "        }\n",
              "      </script>\n",
              "    </div>\n",
              "  </div>\n",
              "  "
            ]
          },
          "metadata": {},
          "execution_count": 9
        }
      ]
    },
    {
      "cell_type": "code",
      "source": [
        "# Consultando a quantidade de linhas e colunas.\n",
        "df.shape"
      ],
      "metadata": {
        "colab": {
          "base_uri": "https://localhost:8080/"
        },
        "id": "4m5L3V51fLxY",
        "outputId": "a473f8fa-164e-498f-a581-db77f423b3ef"
      },
      "execution_count": null,
      "outputs": [
        {
          "output_type": "execute_result",
          "data": {
            "text/plain": [
              "(424868, 4)"
            ]
          },
          "metadata": {},
          "execution_count": 10
        }
      ]
    },
    {
      "cell_type": "markdown",
      "source": [
        "Uma coisa muito importante de saber é o tipo de dados usados num dataframe. Esse conhecimento é importante porque é o tipo de dado que determina quais operações são possíveis de serem realizadas com nosso dataframe. Após a criação do dataframe podemos saber quais são os tipos de dados armazenados em cada coluna. Vamos verificar quais os tipos de dados de nosso dataframe."
      ],
      "metadata": {
        "id": "ZljYUl1gh-ds"
      }
    },
    {
      "cell_type": "code",
      "source": [
        "# Verificando os tipos de dados do dataframe.\n",
        "df.dtypes"
      ],
      "metadata": {
        "colab": {
          "base_uri": "https://localhost:8080/"
        },
        "id": "zwsAdiAifZ10",
        "outputId": "40d5d76d-5a4d-4d9a-c471-cb0f8fea3706"
      },
      "execution_count": null,
      "outputs": [
        {
          "output_type": "execute_result",
          "data": {
            "text/plain": [
              "data            object\n",
              "familia         object\n",
              "denominacao    float64\n",
              "quantidade       int64\n",
              "dtype: object"
            ]
          },
          "metadata": {},
          "execution_count": 11
        }
      ]
    },
    {
      "cell_type": "markdown",
      "source": [
        "Percebe-se que a coluna Data está classificada como tipo `objetc`, conforme especificamos [acima](https://colab.research.google.com/drive/1z-zBDQqiIOZ---0ClHNKlhIUJWwPSJnw#scrollTo=YYQaj7CiF45R&line=8&uniqifier=1). Precisamos alterar para o tipo correto, a fim de que possamos fazer as análises adequadas a cada tipo."
      ],
      "metadata": {
        "id": "ff0EZq7XfjnJ"
      }
    },
    {
      "cell_type": "code",
      "source": [
        "# Vamos ver novamente as primeiras linhas, para efeito de comparação.\n",
        "\n",
        "df.head()"
      ],
      "metadata": {
        "colab": {
          "base_uri": "https://localhost:8080/",
          "height": 206
        },
        "id": "fUToj7grFo0D",
        "outputId": "34e2248f-bffa-44bd-e4f9-b69f5805a6ff"
      },
      "execution_count": null,
      "outputs": [
        {
          "output_type": "execute_result",
          "data": {
            "text/plain": [
              "         data                      familia  denominacao  quantidade\n",
              "0  02/01/1995  Moedas - 1a. Família (inox)         0.01   834342314\n",
              "1  02/01/1995  Moedas - 1a. Família (inox)         0.05   636711876\n",
              "2  02/01/1995  Moedas - 1a. Família (inox)         0.10   583076666\n",
              "3  02/01/1995  Moedas - 1a. Família (inox)         0.25   146883388\n",
              "4  02/01/1995  Moedas - 1a. Família (inox)         0.50   329791540"
            ],
            "text/html": [
              "\n",
              "  <div id=\"df-be1f9b49-21ed-41ea-a5b7-eebce2ef0651\">\n",
              "    <div class=\"colab-df-container\">\n",
              "      <div>\n",
              "<style scoped>\n",
              "    .dataframe tbody tr th:only-of-type {\n",
              "        vertical-align: middle;\n",
              "    }\n",
              "\n",
              "    .dataframe tbody tr th {\n",
              "        vertical-align: top;\n",
              "    }\n",
              "\n",
              "    .dataframe thead th {\n",
              "        text-align: right;\n",
              "    }\n",
              "</style>\n",
              "<table border=\"1\" class=\"dataframe\">\n",
              "  <thead>\n",
              "    <tr style=\"text-align: right;\">\n",
              "      <th></th>\n",
              "      <th>data</th>\n",
              "      <th>familia</th>\n",
              "      <th>denominacao</th>\n",
              "      <th>quantidade</th>\n",
              "    </tr>\n",
              "  </thead>\n",
              "  <tbody>\n",
              "    <tr>\n",
              "      <th>0</th>\n",
              "      <td>02/01/1995</td>\n",
              "      <td>Moedas - 1a. Família (inox)</td>\n",
              "      <td>0.01</td>\n",
              "      <td>834342314</td>\n",
              "    </tr>\n",
              "    <tr>\n",
              "      <th>1</th>\n",
              "      <td>02/01/1995</td>\n",
              "      <td>Moedas - 1a. Família (inox)</td>\n",
              "      <td>0.05</td>\n",
              "      <td>636711876</td>\n",
              "    </tr>\n",
              "    <tr>\n",
              "      <th>2</th>\n",
              "      <td>02/01/1995</td>\n",
              "      <td>Moedas - 1a. Família (inox)</td>\n",
              "      <td>0.10</td>\n",
              "      <td>583076666</td>\n",
              "    </tr>\n",
              "    <tr>\n",
              "      <th>3</th>\n",
              "      <td>02/01/1995</td>\n",
              "      <td>Moedas - 1a. Família (inox)</td>\n",
              "      <td>0.25</td>\n",
              "      <td>146883388</td>\n",
              "    </tr>\n",
              "    <tr>\n",
              "      <th>4</th>\n",
              "      <td>02/01/1995</td>\n",
              "      <td>Moedas - 1a. Família (inox)</td>\n",
              "      <td>0.50</td>\n",
              "      <td>329791540</td>\n",
              "    </tr>\n",
              "  </tbody>\n",
              "</table>\n",
              "</div>\n",
              "      <button class=\"colab-df-convert\" onclick=\"convertToInteractive('df-be1f9b49-21ed-41ea-a5b7-eebce2ef0651')\"\n",
              "              title=\"Convert this dataframe to an interactive table.\"\n",
              "              style=\"display:none;\">\n",
              "        \n",
              "  <svg xmlns=\"http://www.w3.org/2000/svg\" height=\"24px\"viewBox=\"0 0 24 24\"\n",
              "       width=\"24px\">\n",
              "    <path d=\"M0 0h24v24H0V0z\" fill=\"none\"/>\n",
              "    <path d=\"M18.56 5.44l.94 2.06.94-2.06 2.06-.94-2.06-.94-.94-2.06-.94 2.06-2.06.94zm-11 1L8.5 8.5l.94-2.06 2.06-.94-2.06-.94L8.5 2.5l-.94 2.06-2.06.94zm10 10l.94 2.06.94-2.06 2.06-.94-2.06-.94-.94-2.06-.94 2.06-2.06.94z\"/><path d=\"M17.41 7.96l-1.37-1.37c-.4-.4-.92-.59-1.43-.59-.52 0-1.04.2-1.43.59L10.3 9.45l-7.72 7.72c-.78.78-.78 2.05 0 2.83L4 21.41c.39.39.9.59 1.41.59.51 0 1.02-.2 1.41-.59l7.78-7.78 2.81-2.81c.8-.78.8-2.07 0-2.86zM5.41 20L4 18.59l7.72-7.72 1.47 1.35L5.41 20z\"/>\n",
              "  </svg>\n",
              "      </button>\n",
              "      \n",
              "  <style>\n",
              "    .colab-df-container {\n",
              "      display:flex;\n",
              "      flex-wrap:wrap;\n",
              "      gap: 12px;\n",
              "    }\n",
              "\n",
              "    .colab-df-convert {\n",
              "      background-color: #E8F0FE;\n",
              "      border: none;\n",
              "      border-radius: 50%;\n",
              "      cursor: pointer;\n",
              "      display: none;\n",
              "      fill: #1967D2;\n",
              "      height: 32px;\n",
              "      padding: 0 0 0 0;\n",
              "      width: 32px;\n",
              "    }\n",
              "\n",
              "    .colab-df-convert:hover {\n",
              "      background-color: #E2EBFA;\n",
              "      box-shadow: 0px 1px 2px rgba(60, 64, 67, 0.3), 0px 1px 3px 1px rgba(60, 64, 67, 0.15);\n",
              "      fill: #174EA6;\n",
              "    }\n",
              "\n",
              "    [theme=dark] .colab-df-convert {\n",
              "      background-color: #3B4455;\n",
              "      fill: #D2E3FC;\n",
              "    }\n",
              "\n",
              "    [theme=dark] .colab-df-convert:hover {\n",
              "      background-color: #434B5C;\n",
              "      box-shadow: 0px 1px 3px 1px rgba(0, 0, 0, 0.15);\n",
              "      filter: drop-shadow(0px 1px 2px rgba(0, 0, 0, 0.3));\n",
              "      fill: #FFFFFF;\n",
              "    }\n",
              "  </style>\n",
              "\n",
              "      <script>\n",
              "        const buttonEl =\n",
              "          document.querySelector('#df-be1f9b49-21ed-41ea-a5b7-eebce2ef0651 button.colab-df-convert');\n",
              "        buttonEl.style.display =\n",
              "          google.colab.kernel.accessAllowed ? 'block' : 'none';\n",
              "\n",
              "        async function convertToInteractive(key) {\n",
              "          const element = document.querySelector('#df-be1f9b49-21ed-41ea-a5b7-eebce2ef0651');\n",
              "          const dataTable =\n",
              "            await google.colab.kernel.invokeFunction('convertToInteractive',\n",
              "                                                     [key], {});\n",
              "          if (!dataTable) return;\n",
              "\n",
              "          const docLinkHtml = 'Like what you see? Visit the ' +\n",
              "            '<a target=\"_blank\" href=https://colab.research.google.com/notebooks/data_table.ipynb>data table notebook</a>'\n",
              "            + ' to learn more about interactive tables.';\n",
              "          element.innerHTML = '';\n",
              "          dataTable['output_type'] = 'display_data';\n",
              "          await google.colab.output.renderOutput(dataTable, element);\n",
              "          const docLink = document.createElement('div');\n",
              "          docLink.innerHTML = docLinkHtml;\n",
              "          element.appendChild(docLink);\n",
              "        }\n",
              "      </script>\n",
              "    </div>\n",
              "  </div>\n",
              "  "
            ]
          },
          "metadata": {},
          "execution_count": 12
        }
      ]
    },
    {
      "cell_type": "code",
      "source": [
        "# Alterando o tipo da coluna data para data, já com o formato que utilizamos no Brasil (dd/mm/aaaa).\n",
        "df[\"data\"] = pd.to_datetime(df[\"data\"], format = \"%d/%m/%Y\")\n",
        "df.dtypes"
      ],
      "metadata": {
        "colab": {
          "base_uri": "https://localhost:8080/"
        },
        "id": "vAD207YfnIjt",
        "outputId": "b89d8047-01e5-4d04-bf1f-23847ec759b6"
      },
      "execution_count": null,
      "outputs": [
        {
          "output_type": "execute_result",
          "data": {
            "text/plain": [
              "data           datetime64[ns]\n",
              "familia                object\n",
              "denominacao           float64\n",
              "quantidade              int64\n",
              "dtype: object"
            ]
          },
          "metadata": {},
          "execution_count": 13
        }
      ]
    },
    {
      "cell_type": "code",
      "source": [
        "# Agora vemos como ficou.\n",
        "\n",
        "df.head()"
      ],
      "metadata": {
        "colab": {
          "base_uri": "https://localhost:8080/",
          "height": 207
        },
        "id": "Jbls9c26FyuL",
        "outputId": "4da942bb-29d3-4073-af5c-f7497622311d"
      },
      "execution_count": null,
      "outputs": [
        {
          "output_type": "execute_result",
          "data": {
            "text/plain": [
              "        data                      familia  denominacao  quantidade\n",
              "0 1995-01-02  Moedas - 1a. Família (inox)         0.01   834342314\n",
              "1 1995-01-02  Moedas - 1a. Família (inox)         0.05   636711876\n",
              "2 1995-01-02  Moedas - 1a. Família (inox)         0.10   583076666\n",
              "3 1995-01-02  Moedas - 1a. Família (inox)         0.25   146883388\n",
              "4 1995-01-02  Moedas - 1a. Família (inox)         0.50   329791540"
            ],
            "text/html": [
              "\n",
              "  <div id=\"df-8472a077-bdbe-4005-bca8-fd09f67f9214\">\n",
              "    <div class=\"colab-df-container\">\n",
              "      <div>\n",
              "<style scoped>\n",
              "    .dataframe tbody tr th:only-of-type {\n",
              "        vertical-align: middle;\n",
              "    }\n",
              "\n",
              "    .dataframe tbody tr th {\n",
              "        vertical-align: top;\n",
              "    }\n",
              "\n",
              "    .dataframe thead th {\n",
              "        text-align: right;\n",
              "    }\n",
              "</style>\n",
              "<table border=\"1\" class=\"dataframe\">\n",
              "  <thead>\n",
              "    <tr style=\"text-align: right;\">\n",
              "      <th></th>\n",
              "      <th>data</th>\n",
              "      <th>familia</th>\n",
              "      <th>denominacao</th>\n",
              "      <th>quantidade</th>\n",
              "    </tr>\n",
              "  </thead>\n",
              "  <tbody>\n",
              "    <tr>\n",
              "      <th>0</th>\n",
              "      <td>1995-01-02</td>\n",
              "      <td>Moedas - 1a. Família (inox)</td>\n",
              "      <td>0.01</td>\n",
              "      <td>834342314</td>\n",
              "    </tr>\n",
              "    <tr>\n",
              "      <th>1</th>\n",
              "      <td>1995-01-02</td>\n",
              "      <td>Moedas - 1a. Família (inox)</td>\n",
              "      <td>0.05</td>\n",
              "      <td>636711876</td>\n",
              "    </tr>\n",
              "    <tr>\n",
              "      <th>2</th>\n",
              "      <td>1995-01-02</td>\n",
              "      <td>Moedas - 1a. Família (inox)</td>\n",
              "      <td>0.10</td>\n",
              "      <td>583076666</td>\n",
              "    </tr>\n",
              "    <tr>\n",
              "      <th>3</th>\n",
              "      <td>1995-01-02</td>\n",
              "      <td>Moedas - 1a. Família (inox)</td>\n",
              "      <td>0.25</td>\n",
              "      <td>146883388</td>\n",
              "    </tr>\n",
              "    <tr>\n",
              "      <th>4</th>\n",
              "      <td>1995-01-02</td>\n",
              "      <td>Moedas - 1a. Família (inox)</td>\n",
              "      <td>0.50</td>\n",
              "      <td>329791540</td>\n",
              "    </tr>\n",
              "  </tbody>\n",
              "</table>\n",
              "</div>\n",
              "      <button class=\"colab-df-convert\" onclick=\"convertToInteractive('df-8472a077-bdbe-4005-bca8-fd09f67f9214')\"\n",
              "              title=\"Convert this dataframe to an interactive table.\"\n",
              "              style=\"display:none;\">\n",
              "        \n",
              "  <svg xmlns=\"http://www.w3.org/2000/svg\" height=\"24px\"viewBox=\"0 0 24 24\"\n",
              "       width=\"24px\">\n",
              "    <path d=\"M0 0h24v24H0V0z\" fill=\"none\"/>\n",
              "    <path d=\"M18.56 5.44l.94 2.06.94-2.06 2.06-.94-2.06-.94-.94-2.06-.94 2.06-2.06.94zm-11 1L8.5 8.5l.94-2.06 2.06-.94-2.06-.94L8.5 2.5l-.94 2.06-2.06.94zm10 10l.94 2.06.94-2.06 2.06-.94-2.06-.94-.94-2.06-.94 2.06-2.06.94z\"/><path d=\"M17.41 7.96l-1.37-1.37c-.4-.4-.92-.59-1.43-.59-.52 0-1.04.2-1.43.59L10.3 9.45l-7.72 7.72c-.78.78-.78 2.05 0 2.83L4 21.41c.39.39.9.59 1.41.59.51 0 1.02-.2 1.41-.59l7.78-7.78 2.81-2.81c.8-.78.8-2.07 0-2.86zM5.41 20L4 18.59l7.72-7.72 1.47 1.35L5.41 20z\"/>\n",
              "  </svg>\n",
              "      </button>\n",
              "      \n",
              "  <style>\n",
              "    .colab-df-container {\n",
              "      display:flex;\n",
              "      flex-wrap:wrap;\n",
              "      gap: 12px;\n",
              "    }\n",
              "\n",
              "    .colab-df-convert {\n",
              "      background-color: #E8F0FE;\n",
              "      border: none;\n",
              "      border-radius: 50%;\n",
              "      cursor: pointer;\n",
              "      display: none;\n",
              "      fill: #1967D2;\n",
              "      height: 32px;\n",
              "      padding: 0 0 0 0;\n",
              "      width: 32px;\n",
              "    }\n",
              "\n",
              "    .colab-df-convert:hover {\n",
              "      background-color: #E2EBFA;\n",
              "      box-shadow: 0px 1px 2px rgba(60, 64, 67, 0.3), 0px 1px 3px 1px rgba(60, 64, 67, 0.15);\n",
              "      fill: #174EA6;\n",
              "    }\n",
              "\n",
              "    [theme=dark] .colab-df-convert {\n",
              "      background-color: #3B4455;\n",
              "      fill: #D2E3FC;\n",
              "    }\n",
              "\n",
              "    [theme=dark] .colab-df-convert:hover {\n",
              "      background-color: #434B5C;\n",
              "      box-shadow: 0px 1px 3px 1px rgba(0, 0, 0, 0.15);\n",
              "      filter: drop-shadow(0px 1px 2px rgba(0, 0, 0, 0.3));\n",
              "      fill: #FFFFFF;\n",
              "    }\n",
              "  </style>\n",
              "\n",
              "      <script>\n",
              "        const buttonEl =\n",
              "          document.querySelector('#df-8472a077-bdbe-4005-bca8-fd09f67f9214 button.colab-df-convert');\n",
              "        buttonEl.style.display =\n",
              "          google.colab.kernel.accessAllowed ? 'block' : 'none';\n",
              "\n",
              "        async function convertToInteractive(key) {\n",
              "          const element = document.querySelector('#df-8472a077-bdbe-4005-bca8-fd09f67f9214');\n",
              "          const dataTable =\n",
              "            await google.colab.kernel.invokeFunction('convertToInteractive',\n",
              "                                                     [key], {});\n",
              "          if (!dataTable) return;\n",
              "\n",
              "          const docLinkHtml = 'Like what you see? Visit the ' +\n",
              "            '<a target=\"_blank\" href=https://colab.research.google.com/notebooks/data_table.ipynb>data table notebook</a>'\n",
              "            + ' to learn more about interactive tables.';\n",
              "          element.innerHTML = '';\n",
              "          dataTable['output_type'] = 'display_data';\n",
              "          await google.colab.output.renderOutput(dataTable, element);\n",
              "          const docLink = document.createElement('div');\n",
              "          docLink.innerHTML = docLinkHtml;\n",
              "          element.appendChild(docLink);\n",
              "        }\n",
              "      </script>\n",
              "    </div>\n",
              "  </div>\n",
              "  "
            ]
          },
          "metadata": {},
          "execution_count": 14
        }
      ]
    },
    {
      "cell_type": "code",
      "source": [
        "# Verificando alguns dados de exemplo.\n",
        "\n",
        "df.sample(10)"
      ],
      "metadata": {
        "colab": {
          "base_uri": "https://localhost:8080/",
          "height": 476
        },
        "id": "3oBAlujfy1OL",
        "outputId": "4aed5ef2-6f7d-4049-d680-1c1a9e8fd5f4"
      },
      "execution_count": 73,
      "outputs": [
        {
          "output_type": "execute_result",
          "data": {
            "text/plain": [
              "             data                                            familia  \\\n",
              "395047 2021-11-10  Moedas comemorativas Copa 2014 Cuproníquel (Pa...   \n",
              "380755 2021-06-02     Moedas comemorativas Rio 2016 Prata (Chorinho)   \n",
              "203412 2015-10-02                        Moedas - 1a. Família (inox)   \n",
              "264115 2017-09-26                Moedas comemorativas Copa 2014 Ouro   \n",
              "344095 2020-04-13     Moedas comemorativas Rio 2016 Prata (Orquídea)   \n",
              "372225 2021-02-26  Moedas comemorativas duzentos anos da chegada ...   \n",
              "258185 2017-07-20                  Moedas comemorativas Ayrton Senna   \n",
              "259311 2017-08-02                     Moedas comemorativas Juscelino   \n",
              "154585 2013-01-30                   Moedas comemorativas Ary Barroso   \n",
              "39961  2002-06-27                               Moedas - 2a. Família   \n",
              "\n",
              "        denominacao  quantidade       volume   ano  mes  dia  \n",
              "395047         2.00       19802     39604.00  2021   11   10  \n",
              "380755         5.00       17500     87500.00  2021    6    2  \n",
              "203412         0.50   481821529 240910764.50  2015   10    2  \n",
              "264115        10.00        5000     50000.00  2017    9   26  \n",
              "344095         5.00       18000     90000.00  2020    4   13  \n",
              "372225         5.00        2000     10000.00  2021    2   26  \n",
              "258185         2.00       10000     20000.00  2017    7   20  \n",
              "259311         2.00       10604     21208.00  2017    8    2  \n",
              "154585        20.00        1154     23080.00  2013    1   30  \n",
              "39961          0.05   375851645  18792582.25  2002    6   27  "
            ],
            "text/html": [
              "\n",
              "  <div id=\"df-883018e9-e061-425c-a299-f7a30690c854\">\n",
              "    <div class=\"colab-df-container\">\n",
              "      <div>\n",
              "<style scoped>\n",
              "    .dataframe tbody tr th:only-of-type {\n",
              "        vertical-align: middle;\n",
              "    }\n",
              "\n",
              "    .dataframe tbody tr th {\n",
              "        vertical-align: top;\n",
              "    }\n",
              "\n",
              "    .dataframe thead th {\n",
              "        text-align: right;\n",
              "    }\n",
              "</style>\n",
              "<table border=\"1\" class=\"dataframe\">\n",
              "  <thead>\n",
              "    <tr style=\"text-align: right;\">\n",
              "      <th></th>\n",
              "      <th>data</th>\n",
              "      <th>familia</th>\n",
              "      <th>denominacao</th>\n",
              "      <th>quantidade</th>\n",
              "      <th>volume</th>\n",
              "      <th>ano</th>\n",
              "      <th>mes</th>\n",
              "      <th>dia</th>\n",
              "    </tr>\n",
              "  </thead>\n",
              "  <tbody>\n",
              "    <tr>\n",
              "      <th>395047</th>\n",
              "      <td>2021-11-10</td>\n",
              "      <td>Moedas comemorativas Copa 2014 Cuproníquel (Pa...</td>\n",
              "      <td>2.00</td>\n",
              "      <td>19802</td>\n",
              "      <td>39604.00</td>\n",
              "      <td>2021</td>\n",
              "      <td>11</td>\n",
              "      <td>10</td>\n",
              "    </tr>\n",
              "    <tr>\n",
              "      <th>380755</th>\n",
              "      <td>2021-06-02</td>\n",
              "      <td>Moedas comemorativas Rio 2016 Prata (Chorinho)</td>\n",
              "      <td>5.00</td>\n",
              "      <td>17500</td>\n",
              "      <td>87500.00</td>\n",
              "      <td>2021</td>\n",
              "      <td>6</td>\n",
              "      <td>2</td>\n",
              "    </tr>\n",
              "    <tr>\n",
              "      <th>203412</th>\n",
              "      <td>2015-10-02</td>\n",
              "      <td>Moedas - 1a. Família (inox)</td>\n",
              "      <td>0.50</td>\n",
              "      <td>481821529</td>\n",
              "      <td>240910764.50</td>\n",
              "      <td>2015</td>\n",
              "      <td>10</td>\n",
              "      <td>2</td>\n",
              "    </tr>\n",
              "    <tr>\n",
              "      <th>264115</th>\n",
              "      <td>2017-09-26</td>\n",
              "      <td>Moedas comemorativas Copa 2014 Ouro</td>\n",
              "      <td>10.00</td>\n",
              "      <td>5000</td>\n",
              "      <td>50000.00</td>\n",
              "      <td>2017</td>\n",
              "      <td>9</td>\n",
              "      <td>26</td>\n",
              "    </tr>\n",
              "    <tr>\n",
              "      <th>344095</th>\n",
              "      <td>2020-04-13</td>\n",
              "      <td>Moedas comemorativas Rio 2016 Prata (Orquídea)</td>\n",
              "      <td>5.00</td>\n",
              "      <td>18000</td>\n",
              "      <td>90000.00</td>\n",
              "      <td>2020</td>\n",
              "      <td>4</td>\n",
              "      <td>13</td>\n",
              "    </tr>\n",
              "    <tr>\n",
              "      <th>372225</th>\n",
              "      <td>2021-02-26</td>\n",
              "      <td>Moedas comemorativas duzentos anos da chegada ...</td>\n",
              "      <td>5.00</td>\n",
              "      <td>2000</td>\n",
              "      <td>10000.00</td>\n",
              "      <td>2021</td>\n",
              "      <td>2</td>\n",
              "      <td>26</td>\n",
              "    </tr>\n",
              "    <tr>\n",
              "      <th>258185</th>\n",
              "      <td>2017-07-20</td>\n",
              "      <td>Moedas comemorativas Ayrton Senna</td>\n",
              "      <td>2.00</td>\n",
              "      <td>10000</td>\n",
              "      <td>20000.00</td>\n",
              "      <td>2017</td>\n",
              "      <td>7</td>\n",
              "      <td>20</td>\n",
              "    </tr>\n",
              "    <tr>\n",
              "      <th>259311</th>\n",
              "      <td>2017-08-02</td>\n",
              "      <td>Moedas comemorativas Juscelino</td>\n",
              "      <td>2.00</td>\n",
              "      <td>10604</td>\n",
              "      <td>21208.00</td>\n",
              "      <td>2017</td>\n",
              "      <td>8</td>\n",
              "      <td>2</td>\n",
              "    </tr>\n",
              "    <tr>\n",
              "      <th>154585</th>\n",
              "      <td>2013-01-30</td>\n",
              "      <td>Moedas comemorativas Ary Barroso</td>\n",
              "      <td>20.00</td>\n",
              "      <td>1154</td>\n",
              "      <td>23080.00</td>\n",
              "      <td>2013</td>\n",
              "      <td>1</td>\n",
              "      <td>30</td>\n",
              "    </tr>\n",
              "    <tr>\n",
              "      <th>39961</th>\n",
              "      <td>2002-06-27</td>\n",
              "      <td>Moedas - 2a. Família</td>\n",
              "      <td>0.05</td>\n",
              "      <td>375851645</td>\n",
              "      <td>18792582.25</td>\n",
              "      <td>2002</td>\n",
              "      <td>6</td>\n",
              "      <td>27</td>\n",
              "    </tr>\n",
              "  </tbody>\n",
              "</table>\n",
              "</div>\n",
              "      <button class=\"colab-df-convert\" onclick=\"convertToInteractive('df-883018e9-e061-425c-a299-f7a30690c854')\"\n",
              "              title=\"Convert this dataframe to an interactive table.\"\n",
              "              style=\"display:none;\">\n",
              "        \n",
              "  <svg xmlns=\"http://www.w3.org/2000/svg\" height=\"24px\"viewBox=\"0 0 24 24\"\n",
              "       width=\"24px\">\n",
              "    <path d=\"M0 0h24v24H0V0z\" fill=\"none\"/>\n",
              "    <path d=\"M18.56 5.44l.94 2.06.94-2.06 2.06-.94-2.06-.94-.94-2.06-.94 2.06-2.06.94zm-11 1L8.5 8.5l.94-2.06 2.06-.94-2.06-.94L8.5 2.5l-.94 2.06-2.06.94zm10 10l.94 2.06.94-2.06 2.06-.94-2.06-.94-.94-2.06-.94 2.06-2.06.94z\"/><path d=\"M17.41 7.96l-1.37-1.37c-.4-.4-.92-.59-1.43-.59-.52 0-1.04.2-1.43.59L10.3 9.45l-7.72 7.72c-.78.78-.78 2.05 0 2.83L4 21.41c.39.39.9.59 1.41.59.51 0 1.02-.2 1.41-.59l7.78-7.78 2.81-2.81c.8-.78.8-2.07 0-2.86zM5.41 20L4 18.59l7.72-7.72 1.47 1.35L5.41 20z\"/>\n",
              "  </svg>\n",
              "      </button>\n",
              "      \n",
              "  <style>\n",
              "    .colab-df-container {\n",
              "      display:flex;\n",
              "      flex-wrap:wrap;\n",
              "      gap: 12px;\n",
              "    }\n",
              "\n",
              "    .colab-df-convert {\n",
              "      background-color: #E8F0FE;\n",
              "      border: none;\n",
              "      border-radius: 50%;\n",
              "      cursor: pointer;\n",
              "      display: none;\n",
              "      fill: #1967D2;\n",
              "      height: 32px;\n",
              "      padding: 0 0 0 0;\n",
              "      width: 32px;\n",
              "    }\n",
              "\n",
              "    .colab-df-convert:hover {\n",
              "      background-color: #E2EBFA;\n",
              "      box-shadow: 0px 1px 2px rgba(60, 64, 67, 0.3), 0px 1px 3px 1px rgba(60, 64, 67, 0.15);\n",
              "      fill: #174EA6;\n",
              "    }\n",
              "\n",
              "    [theme=dark] .colab-df-convert {\n",
              "      background-color: #3B4455;\n",
              "      fill: #D2E3FC;\n",
              "    }\n",
              "\n",
              "    [theme=dark] .colab-df-convert:hover {\n",
              "      background-color: #434B5C;\n",
              "      box-shadow: 0px 1px 3px 1px rgba(0, 0, 0, 0.15);\n",
              "      filter: drop-shadow(0px 1px 2px rgba(0, 0, 0, 0.3));\n",
              "      fill: #FFFFFF;\n",
              "    }\n",
              "  </style>\n",
              "\n",
              "      <script>\n",
              "        const buttonEl =\n",
              "          document.querySelector('#df-883018e9-e061-425c-a299-f7a30690c854 button.colab-df-convert');\n",
              "        buttonEl.style.display =\n",
              "          google.colab.kernel.accessAllowed ? 'block' : 'none';\n",
              "\n",
              "        async function convertToInteractive(key) {\n",
              "          const element = document.querySelector('#df-883018e9-e061-425c-a299-f7a30690c854');\n",
              "          const dataTable =\n",
              "            await google.colab.kernel.invokeFunction('convertToInteractive',\n",
              "                                                     [key], {});\n",
              "          if (!dataTable) return;\n",
              "\n",
              "          const docLinkHtml = 'Like what you see? Visit the ' +\n",
              "            '<a target=\"_blank\" href=https://colab.research.google.com/notebooks/data_table.ipynb>data table notebook</a>'\n",
              "            + ' to learn more about interactive tables.';\n",
              "          element.innerHTML = '';\n",
              "          dataTable['output_type'] = 'display_data';\n",
              "          await google.colab.output.renderOutput(dataTable, element);\n",
              "          const docLink = document.createElement('div');\n",
              "          docLink.innerHTML = docLinkHtml;\n",
              "          element.appendChild(docLink);\n",
              "        }\n",
              "      </script>\n",
              "    </div>\n",
              "  </div>\n",
              "  "
            ]
          },
          "metadata": {},
          "execution_count": 73
        }
      ]
    },
    {
      "cell_type": "code",
      "source": [
        "# Verificando a existência de dados faltantes.\n",
        "\n",
        "df.isnull().sum()"
      ],
      "metadata": {
        "colab": {
          "base_uri": "https://localhost:8080/"
        },
        "id": "0xrlt15WiiUL",
        "outputId": "435a6a31-901a-4613-92d3-fd67f5c23d9f"
      },
      "execution_count": null,
      "outputs": [
        {
          "output_type": "execute_result",
          "data": {
            "text/plain": [
              "data           0\n",
              "familia        0\n",
              "denominacao    0\n",
              "quantidade     0\n",
              "dtype: int64"
            ]
          },
          "metadata": {},
          "execution_count": 16
        }
      ]
    },
    {
      "cell_type": "markdown",
      "source": [
        "Não há dados fantantes. Agora que nosso dataframe está pronto, podemos explorar os dados existentes."
      ],
      "metadata": {
        "id": "BpeLo0tqv1u9"
      }
    },
    {
      "cell_type": "markdown",
      "source": [
        "# Explorando os dados"
      ],
      "metadata": {
        "id": "HnD8bD8rvtve"
      }
    },
    {
      "cell_type": "markdown",
      "source": [
        "Vamos criar uma nova coluna demoninada 'volume' que será o resultado da multiplicação das colunas 'denominacao' e 'quantidade' e representa o montante em circulação da família representada em cada linha."
      ],
      "metadata": {
        "id": "0Q_4vUJN0tAk"
      }
    },
    {
      "cell_type": "code",
      "source": [
        "# Criando a coluna volume.\n",
        "\n",
        "df[\"volume\"] = df[\"denominacao\"].mul(df[\"quantidade\"])\n",
        "df.head()"
      ],
      "metadata": {
        "colab": {
          "base_uri": "https://localhost:8080/",
          "height": 206
        },
        "id": "8WP9aMq0r_NU",
        "outputId": "97294813-8758-4fbd-800c-8ead825bb57f"
      },
      "execution_count": null,
      "outputs": [
        {
          "output_type": "execute_result",
          "data": {
            "text/plain": [
              "        data                      familia  denominacao  quantidade  \\\n",
              "0 1995-01-02  Moedas - 1a. Família (inox)         0.01   834342314   \n",
              "1 1995-01-02  Moedas - 1a. Família (inox)         0.05   636711876   \n",
              "2 1995-01-02  Moedas - 1a. Família (inox)         0.10   583076666   \n",
              "3 1995-01-02  Moedas - 1a. Família (inox)         0.25   146883388   \n",
              "4 1995-01-02  Moedas - 1a. Família (inox)         0.50   329791540   \n",
              "\n",
              "        volume  \n",
              "0   8343423.14  \n",
              "1  31835593.80  \n",
              "2  58307666.60  \n",
              "3  36720847.00  \n",
              "4 164895770.00  "
            ],
            "text/html": [
              "\n",
              "  <div id=\"df-f71de74b-f93a-426f-b9b9-20c98c120ade\">\n",
              "    <div class=\"colab-df-container\">\n",
              "      <div>\n",
              "<style scoped>\n",
              "    .dataframe tbody tr th:only-of-type {\n",
              "        vertical-align: middle;\n",
              "    }\n",
              "\n",
              "    .dataframe tbody tr th {\n",
              "        vertical-align: top;\n",
              "    }\n",
              "\n",
              "    .dataframe thead th {\n",
              "        text-align: right;\n",
              "    }\n",
              "</style>\n",
              "<table border=\"1\" class=\"dataframe\">\n",
              "  <thead>\n",
              "    <tr style=\"text-align: right;\">\n",
              "      <th></th>\n",
              "      <th>data</th>\n",
              "      <th>familia</th>\n",
              "      <th>denominacao</th>\n",
              "      <th>quantidade</th>\n",
              "      <th>volume</th>\n",
              "    </tr>\n",
              "  </thead>\n",
              "  <tbody>\n",
              "    <tr>\n",
              "      <th>0</th>\n",
              "      <td>1995-01-02</td>\n",
              "      <td>Moedas - 1a. Família (inox)</td>\n",
              "      <td>0.01</td>\n",
              "      <td>834342314</td>\n",
              "      <td>8343423.14</td>\n",
              "    </tr>\n",
              "    <tr>\n",
              "      <th>1</th>\n",
              "      <td>1995-01-02</td>\n",
              "      <td>Moedas - 1a. Família (inox)</td>\n",
              "      <td>0.05</td>\n",
              "      <td>636711876</td>\n",
              "      <td>31835593.80</td>\n",
              "    </tr>\n",
              "    <tr>\n",
              "      <th>2</th>\n",
              "      <td>1995-01-02</td>\n",
              "      <td>Moedas - 1a. Família (inox)</td>\n",
              "      <td>0.10</td>\n",
              "      <td>583076666</td>\n",
              "      <td>58307666.60</td>\n",
              "    </tr>\n",
              "    <tr>\n",
              "      <th>3</th>\n",
              "      <td>1995-01-02</td>\n",
              "      <td>Moedas - 1a. Família (inox)</td>\n",
              "      <td>0.25</td>\n",
              "      <td>146883388</td>\n",
              "      <td>36720847.00</td>\n",
              "    </tr>\n",
              "    <tr>\n",
              "      <th>4</th>\n",
              "      <td>1995-01-02</td>\n",
              "      <td>Moedas - 1a. Família (inox)</td>\n",
              "      <td>0.50</td>\n",
              "      <td>329791540</td>\n",
              "      <td>164895770.00</td>\n",
              "    </tr>\n",
              "  </tbody>\n",
              "</table>\n",
              "</div>\n",
              "      <button class=\"colab-df-convert\" onclick=\"convertToInteractive('df-f71de74b-f93a-426f-b9b9-20c98c120ade')\"\n",
              "              title=\"Convert this dataframe to an interactive table.\"\n",
              "              style=\"display:none;\">\n",
              "        \n",
              "  <svg xmlns=\"http://www.w3.org/2000/svg\" height=\"24px\"viewBox=\"0 0 24 24\"\n",
              "       width=\"24px\">\n",
              "    <path d=\"M0 0h24v24H0V0z\" fill=\"none\"/>\n",
              "    <path d=\"M18.56 5.44l.94 2.06.94-2.06 2.06-.94-2.06-.94-.94-2.06-.94 2.06-2.06.94zm-11 1L8.5 8.5l.94-2.06 2.06-.94-2.06-.94L8.5 2.5l-.94 2.06-2.06.94zm10 10l.94 2.06.94-2.06 2.06-.94-2.06-.94-.94-2.06-.94 2.06-2.06.94z\"/><path d=\"M17.41 7.96l-1.37-1.37c-.4-.4-.92-.59-1.43-.59-.52 0-1.04.2-1.43.59L10.3 9.45l-7.72 7.72c-.78.78-.78 2.05 0 2.83L4 21.41c.39.39.9.59 1.41.59.51 0 1.02-.2 1.41-.59l7.78-7.78 2.81-2.81c.8-.78.8-2.07 0-2.86zM5.41 20L4 18.59l7.72-7.72 1.47 1.35L5.41 20z\"/>\n",
              "  </svg>\n",
              "      </button>\n",
              "      \n",
              "  <style>\n",
              "    .colab-df-container {\n",
              "      display:flex;\n",
              "      flex-wrap:wrap;\n",
              "      gap: 12px;\n",
              "    }\n",
              "\n",
              "    .colab-df-convert {\n",
              "      background-color: #E8F0FE;\n",
              "      border: none;\n",
              "      border-radius: 50%;\n",
              "      cursor: pointer;\n",
              "      display: none;\n",
              "      fill: #1967D2;\n",
              "      height: 32px;\n",
              "      padding: 0 0 0 0;\n",
              "      width: 32px;\n",
              "    }\n",
              "\n",
              "    .colab-df-convert:hover {\n",
              "      background-color: #E2EBFA;\n",
              "      box-shadow: 0px 1px 2px rgba(60, 64, 67, 0.3), 0px 1px 3px 1px rgba(60, 64, 67, 0.15);\n",
              "      fill: #174EA6;\n",
              "    }\n",
              "\n",
              "    [theme=dark] .colab-df-convert {\n",
              "      background-color: #3B4455;\n",
              "      fill: #D2E3FC;\n",
              "    }\n",
              "\n",
              "    [theme=dark] .colab-df-convert:hover {\n",
              "      background-color: #434B5C;\n",
              "      box-shadow: 0px 1px 3px 1px rgba(0, 0, 0, 0.15);\n",
              "      filter: drop-shadow(0px 1px 2px rgba(0, 0, 0, 0.3));\n",
              "      fill: #FFFFFF;\n",
              "    }\n",
              "  </style>\n",
              "\n",
              "      <script>\n",
              "        const buttonEl =\n",
              "          document.querySelector('#df-f71de74b-f93a-426f-b9b9-20c98c120ade button.colab-df-convert');\n",
              "        buttonEl.style.display =\n",
              "          google.colab.kernel.accessAllowed ? 'block' : 'none';\n",
              "\n",
              "        async function convertToInteractive(key) {\n",
              "          const element = document.querySelector('#df-f71de74b-f93a-426f-b9b9-20c98c120ade');\n",
              "          const dataTable =\n",
              "            await google.colab.kernel.invokeFunction('convertToInteractive',\n",
              "                                                     [key], {});\n",
              "          if (!dataTable) return;\n",
              "\n",
              "          const docLinkHtml = 'Like what you see? Visit the ' +\n",
              "            '<a target=\"_blank\" href=https://colab.research.google.com/notebooks/data_table.ipynb>data table notebook</a>'\n",
              "            + ' to learn more about interactive tables.';\n",
              "          element.innerHTML = '';\n",
              "          dataTable['output_type'] = 'display_data';\n",
              "          await google.colab.output.renderOutput(dataTable, element);\n",
              "          const docLink = document.createElement('div');\n",
              "          docLink.innerHTML = docLinkHtml;\n",
              "          element.appendChild(docLink);\n",
              "        }\n",
              "      </script>\n",
              "    </div>\n",
              "  </div>\n",
              "  "
            ]
          },
          "metadata": {},
          "execution_count": 17
        }
      ]
    },
    {
      "cell_type": "code",
      "source": [
        "# Criando as colunas ano, mês e dia.\n",
        "\n",
        "df[\"ano\"] = df[\"data\"].dt.year\n",
        "df[\"mes\"] = df[\"data\"].dt.month\n",
        "df[\"dia\"] = df[\"data\"].dt.day"
      ],
      "metadata": {
        "id": "q0bUsY8ZEGnS"
      },
      "execution_count": 71,
      "outputs": []
    },
    {
      "cell_type": "code",
      "source": [
        "# Vamos consultar a média de volume por denominação/dia e agrupar por ano.\n",
        "\n",
        "df.groupby(\"ano\")[\"volume\"].mean()"
      ],
      "metadata": {
        "colab": {
          "base_uri": "https://localhost:8080/"
        },
        "id": "E739AGnNEVbR",
        "outputId": "c38ddb52-9f3e-4d26-b7b0-b9876111410a"
      },
      "execution_count": null,
      "outputs": [
        {
          "output_type": "execute_result",
          "data": {
            "text/plain": [
              "ano\n",
              "1995    619136214.55\n",
              "1996    748203359.88\n",
              "1997    945390739.95\n",
              "1998    888739892.78\n",
              "1999    906167406.85\n",
              "2000    999112227.64\n",
              "2001   1084220802.15\n",
              "2002   1247506178.16\n",
              "2003   1178484902.90\n",
              "2004   1247357158.03\n",
              "2005   1437539793.36\n",
              "2006   1683702923.27\n",
              "2007   1913048830.52\n",
              "2008   2176809327.68\n",
              "2009   2400744616.58\n",
              "2010   2728329422.37\n",
              "2011   2836047826.74\n",
              "2012   2978296499.14\n",
              "2013   2985098220.60\n",
              "2014   2731131598.42\n",
              "2015   2048991479.10\n",
              "2016   1702663062.43\n",
              "2017   1745396301.66\n",
              "2018   1853662301.79\n",
              "2019   1936223488.54\n",
              "2020   2484526222.37\n",
              "2021   2660178603.35\n",
              "2022   2518969785.46\n",
              "Name: volume, dtype: float64"
            ]
          },
          "metadata": {},
          "execution_count": 43
        }
      ]
    },
    {
      "cell_type": "code",
      "source": [
        "# Agora vamos pegar a informação acima e plotar em um gráfico.\n",
        "\n",
        "df.groupby(\"ano\")[\"volume\"].mean().plot(title=\"Média de volume por ano\")\n",
        "plt.xlabel(\"ano\")\n",
        "plt.ylabel(\"R$ bi\");"
      ],
      "metadata": {
        "colab": {
          "base_uri": "https://localhost:8080/",
          "height": 376
        },
        "id": "p3WS_5mGElZt",
        "outputId": "36205ce3-071b-4709-df88-14e4084e7e21"
      },
      "execution_count": null,
      "outputs": [
        {
          "output_type": "display_data",
          "data": {
            "text/plain": [
              "<Figure size 576x396 with 1 Axes>"
            ],
            "image/png": "[encoded data removed]"
          },
          "metadata": {}
        }
      ]
    },
    {
      "cell_type": "markdown",
      "source": [
        "O gráfico acima não representa a média do meio circulante, uma vez que o arquivo de dados contem todas as denominações existentes em cada data existente. Assim, o volume de uma data anterior estará contido no volume de uma data posterior."
      ],
      "metadata": {
        "id": "FbLSPvI2F4la"
      }
    },
    {
      "cell_type": "code",
      "source": [
        "# Vamos consultar se algum dia do mês, costumamos ter mais volume em circulação.\n",
        "\n",
        "df.groupby(\"dia\")[\"volume\"].sum().plot.bar();"
      ],
      "metadata": {
        "colab": {
          "base_uri": "https://localhost:8080/",
          "height": 373
        },
        "id": "K-ml5J1DZNW6",
        "outputId": "9abe8d02-1e41-48a6-fd21-28efd803e7c4"
      },
      "execution_count": 109,
      "outputs": [
        {
          "output_type": "display_data",
          "data": {
            "text/plain": [
              "<Figure size 576x396 with 1 Axes>"
            ],
            "image/png": "[encoded data removed]"
          },
          "metadata": {}
        }
      ]
    },
    {
      "cell_type": "markdown",
      "source": [
        "Realmente, no final de cada mês a gente não costuma ter muita grana..."
      ],
      "metadata": {
        "id": "-9B5jPmcZnoa"
      }
    },
    {
      "cell_type": "code",
      "source": [
        "# Vamos consultar quantas familias tempos em nossos dados.\n",
        "\n",
        "len(df[\"familia\"].unique())"
      ],
      "metadata": {
        "colab": {
          "base_uri": "https://localhost:8080/"
        },
        "id": "gjyTHl315fKP",
        "outputId": "9dea4d34-6f33-4497-e5f1-c4e66f6fcf59"
      },
      "execution_count": null,
      "outputs": [
        {
          "output_type": "execute_result",
          "data": {
            "text/plain": [
              "102"
            ]
          },
          "metadata": {},
          "execution_count": 18
        }
      ]
    },
    {
      "cell_type": "markdown",
      "source": [
        "Ao executarmos o código `len(df[\"familia\"].unique())`, vemos que temos **102** famílias de numerários \"em circulação\", entre aspas pois a maior parte das famílias são moedas do tipo [comemorativas](https://www.bcb.gov.br/cedulasemoedas/moedascomemorativas). Esse tipo de moeda geralmente é produzida em pouca quantidade e na prática nem sempre fica, de fato, em circulação, mas é adquirida por colecionadores. Esse tipo de moeda possui quase sempre valor real maior que o valor de face (denominação). "
      ],
      "metadata": {
        "id": "RPt6PKYw6wgV"
      }
    },
    {
      "cell_type": "code",
      "source": [
        "# Agora vamos saber qual a denominação que possui a maior quantidade quantidade.\n",
        "\n",
        "df.loc[df[\"quantidade\"]==df[\"quantidade\"].max()]"
      ],
      "metadata": {
        "colab": {
          "base_uri": "https://localhost:8080/",
          "height": 112
        },
        "id": "Z7asQ1FjSUGU",
        "outputId": "af73d2b9-e1b6-4f3b-c868-01052e6a3904"
      },
      "execution_count": 91,
      "outputs": [
        {
          "output_type": "execute_result",
          "data": {
            "text/plain": [
              "             data               familia  denominacao  quantidade       volume  \\\n",
              "424611 2022-10-06  Moedas - 2a. Família         0.10  6305713680 630571368.00   \n",
              "424742 2022-10-07  Moedas - 2a. Família         0.10  6305713680 630571368.00   \n",
              "\n",
              "         ano  mes  dia  \n",
              "424611  2022   10    6  \n",
              "424742  2022   10    7  "
            ],
            "text/html": [
              "\n",
              "  <div id=\"df-95675101-232b-44f7-99e6-7acf0fbacea8\">\n",
              "    <div class=\"colab-df-container\">\n",
              "      <div>\n",
              "<style scoped>\n",
              "    .dataframe tbody tr th:only-of-type {\n",
              "        vertical-align: middle;\n",
              "    }\n",
              "\n",
              "    .dataframe tbody tr th {\n",
              "        vertical-align: top;\n",
              "    }\n",
              "\n",
              "    .dataframe thead th {\n",
              "        text-align: right;\n",
              "    }\n",
              "</style>\n",
              "<table border=\"1\" class=\"dataframe\">\n",
              "  <thead>\n",
              "    <tr style=\"text-align: right;\">\n",
              "      <th></th>\n",
              "      <th>data</th>\n",
              "      <th>familia</th>\n",
              "      <th>denominacao</th>\n",
              "      <th>quantidade</th>\n",
              "      <th>volume</th>\n",
              "      <th>ano</th>\n",
              "      <th>mes</th>\n",
              "      <th>dia</th>\n",
              "    </tr>\n",
              "  </thead>\n",
              "  <tbody>\n",
              "    <tr>\n",
              "      <th>424611</th>\n",
              "      <td>2022-10-06</td>\n",
              "      <td>Moedas - 2a. Família</td>\n",
              "      <td>0.10</td>\n",
              "      <td>6305713680</td>\n",
              "      <td>630571368.00</td>\n",
              "      <td>2022</td>\n",
              "      <td>10</td>\n",
              "      <td>6</td>\n",
              "    </tr>\n",
              "    <tr>\n",
              "      <th>424742</th>\n",
              "      <td>2022-10-07</td>\n",
              "      <td>Moedas - 2a. Família</td>\n",
              "      <td>0.10</td>\n",
              "      <td>6305713680</td>\n",
              "      <td>630571368.00</td>\n",
              "      <td>2022</td>\n",
              "      <td>10</td>\n",
              "      <td>7</td>\n",
              "    </tr>\n",
              "  </tbody>\n",
              "</table>\n",
              "</div>\n",
              "      <button class=\"colab-df-convert\" onclick=\"convertToInteractive('df-95675101-232b-44f7-99e6-7acf0fbacea8')\"\n",
              "              title=\"Convert this dataframe to an interactive table.\"\n",
              "              style=\"display:none;\">\n",
              "        \n",
              "  <svg xmlns=\"http://www.w3.org/2000/svg\" height=\"24px\"viewBox=\"0 0 24 24\"\n",
              "       width=\"24px\">\n",
              "    <path d=\"M0 0h24v24H0V0z\" fill=\"none\"/>\n",
              "    <path d=\"M18.56 5.44l.94 2.06.94-2.06 2.06-.94-2.06-.94-.94-2.06-.94 2.06-2.06.94zm-11 1L8.5 8.5l.94-2.06 2.06-.94-2.06-.94L8.5 2.5l-.94 2.06-2.06.94zm10 10l.94 2.06.94-2.06 2.06-.94-2.06-.94-.94-2.06-.94 2.06-2.06.94z\"/><path d=\"M17.41 7.96l-1.37-1.37c-.4-.4-.92-.59-1.43-.59-.52 0-1.04.2-1.43.59L10.3 9.45l-7.72 7.72c-.78.78-.78 2.05 0 2.83L4 21.41c.39.39.9.59 1.41.59.51 0 1.02-.2 1.41-.59l7.78-7.78 2.81-2.81c.8-.78.8-2.07 0-2.86zM5.41 20L4 18.59l7.72-7.72 1.47 1.35L5.41 20z\"/>\n",
              "  </svg>\n",
              "      </button>\n",
              "      \n",
              "  <style>\n",
              "    .colab-df-container {\n",
              "      display:flex;\n",
              "      flex-wrap:wrap;\n",
              "      gap: 12px;\n",
              "    }\n",
              "\n",
              "    .colab-df-convert {\n",
              "      background-color: #E8F0FE;\n",
              "      border: none;\n",
              "      border-radius: 50%;\n",
              "      cursor: pointer;\n",
              "      display: none;\n",
              "      fill: #1967D2;\n",
              "      height: 32px;\n",
              "      padding: 0 0 0 0;\n",
              "      width: 32px;\n",
              "    }\n",
              "\n",
              "    .colab-df-convert:hover {\n",
              "      background-color: #E2EBFA;\n",
              "      box-shadow: 0px 1px 2px rgba(60, 64, 67, 0.3), 0px 1px 3px 1px rgba(60, 64, 67, 0.15);\n",
              "      fill: #174EA6;\n",
              "    }\n",
              "\n",
              "    [theme=dark] .colab-df-convert {\n",
              "      background-color: #3B4455;\n",
              "      fill: #D2E3FC;\n",
              "    }\n",
              "\n",
              "    [theme=dark] .colab-df-convert:hover {\n",
              "      background-color: #434B5C;\n",
              "      box-shadow: 0px 1px 3px 1px rgba(0, 0, 0, 0.15);\n",
              "      filter: drop-shadow(0px 1px 2px rgba(0, 0, 0, 0.3));\n",
              "      fill: #FFFFFF;\n",
              "    }\n",
              "  </style>\n",
              "\n",
              "      <script>\n",
              "        const buttonEl =\n",
              "          document.querySelector('#df-95675101-232b-44f7-99e6-7acf0fbacea8 button.colab-df-convert');\n",
              "        buttonEl.style.display =\n",
              "          google.colab.kernel.accessAllowed ? 'block' : 'none';\n",
              "\n",
              "        async function convertToInteractive(key) {\n",
              "          const element = document.querySelector('#df-95675101-232b-44f7-99e6-7acf0fbacea8');\n",
              "          const dataTable =\n",
              "            await google.colab.kernel.invokeFunction('convertToInteractive',\n",
              "                                                     [key], {});\n",
              "          if (!dataTable) return;\n",
              "\n",
              "          const docLinkHtml = 'Like what you see? Visit the ' +\n",
              "            '<a target=\"_blank\" href=https://colab.research.google.com/notebooks/data_table.ipynb>data table notebook</a>'\n",
              "            + ' to learn more about interactive tables.';\n",
              "          element.innerHTML = '';\n",
              "          dataTable['output_type'] = 'display_data';\n",
              "          await google.colab.output.renderOutput(dataTable, element);\n",
              "          const docLink = document.createElement('div');\n",
              "          docLink.innerHTML = docLinkHtml;\n",
              "          element.appendChild(docLink);\n",
              "        }\n",
              "      </script>\n",
              "    </div>\n",
              "  </div>\n",
              "  "
            ]
          },
          "metadata": {},
          "execution_count": 91
        }
      ]
    },
    {
      "cell_type": "code",
      "source": [
        "# E para os numismatas de plantão, vamos saber qual a denominação mais rara que existe em nosso meio circulante.\n",
        "\n",
        "df[df[\"quantidade\"]!=0].min()"
      ],
      "metadata": {
        "colab": {
          "base_uri": "https://localhost:8080/"
        },
        "id": "EHv-e1a8WKdl",
        "outputId": "2468b6b2-8fd2-4fbe-c17e-0a15c109ab12"
      },
      "execution_count": 116,
      "outputs": [
        {
          "output_type": "execute_result",
          "data": {
            "text/plain": [
              "data                    1995-01-02 00:00:00\n",
              "familia        Cartela Rio 2016 - Atletismo\n",
              "denominacao                            0.01\n",
              "quantidade                                3\n",
              "volume                                 8.00\n",
              "ano                                    1995\n",
              "mes                                       1\n",
              "dia                                       1\n",
              "dtype: object"
            ]
          },
          "metadata": {},
          "execution_count": 116
        }
      ]
    },
    {
      "cell_type": "code",
      "source": [
        "# Vamos verificar a quantidade média de cada denominação.\n",
        "\n",
        "df.groupby(\"denominacao\")[\"quantidade\"].mean().sort_values(ascending=False)"
      ],
      "metadata": {
        "colab": {
          "base_uri": "https://localhost:8080/"
        },
        "id": "6VI0-1mFcAnr",
        "outputId": "188057e2-2702-4bf3-94b5-2848878a7067"
      },
      "execution_count": 123,
      "outputs": [
        {
          "output_type": "execute_result",
          "data": {
            "text/plain": [
              "denominacao\n",
              "0.10     2111817187.58\n",
              "0.05     1872636648.35\n",
              "0.01     1495303644.19\n",
              "0.25      883936754.30\n",
              "50.00     822724152.07\n",
              "0.50      797073171.27\n",
              "100.00    313762311.29\n",
              "10.00     167155426.91\n",
              "1.00      156118845.28\n",
              "200.00     75831731.38\n",
              "2.00       61964682.94\n",
              "20.00      53316544.60\n",
              "5.00       29861188.30\n",
              "3.00          12074.73\n",
              "4.00           8847.82\n",
              "Name: quantidade, dtype: float64"
            ]
          },
          "metadata": {},
          "execution_count": 123
        }
      ]
    },
    {
      "cell_type": "markdown",
      "source": [
        "Isso explica o motivo de vermos com mais frequencia cédulas de R$ 50,00 e menos as demais... as moedas de 1, 5, 10 e 25 centavos, em que pese serem em maior quantidade, não as vemos tanto provavelmente por estarem em cofrinhos de porcelana ou... [garrafas PET](https://www.youtube.com/watch?v=d81lzvRE3NI)"
      ],
      "metadata": {
        "id": "UiQ2WFi_dxAA"
      }
    },
    {
      "cell_type": "code",
      "source": [
        "# Vamos saber qual a data mais antiga em nosso dataframe.\n",
        "\n",
        "df[\"data\"].min()"
      ],
      "metadata": {
        "colab": {
          "base_uri": "https://localhost:8080/"
        },
        "id": "_kfyOkPA_x11",
        "outputId": "0e164bce-9c68-47ed-82fd-8a3a7e5f8cd1"
      },
      "execution_count": null,
      "outputs": [
        {
          "output_type": "execute_result",
          "data": {
            "text/plain": [
              "Timestamp('1995-01-02 00:00:00')"
            ]
          },
          "metadata": {},
          "execution_count": 19
        }
      ]
    },
    {
      "cell_type": "code",
      "source": [
        "# Vamos criar um novo dataframe somente com as informações dessa data.\n",
        "\n",
        "df_menor_data = df.loc[(df[\"data\"].dt.day == 2) & \n",
        "             (df[\"data\"].dt.month == 1) &\n",
        "             (df[\"data\"].dt.year == 1995)]"
      ],
      "metadata": {
        "id": "14XIPO17DVWe"
      },
      "execution_count": null,
      "outputs": []
    },
    {
      "cell_type": "code",
      "source": [
        "# Vamos consultar qual o volume total do meio circulante naquela data.\n",
        "\n",
        "df_menor_data[\"volume\"].sum()"
      ],
      "metadata": {
        "colab": {
          "base_uri": "https://localhost:8080/"
        },
        "id": "4PYFLkxZEhIC",
        "outputId": "08cf6fbf-809a-4dca-9bb7-92b567b035e8"
      },
      "execution_count": null,
      "outputs": [
        {
          "output_type": "execute_result",
          "data": {
            "text/plain": [
              "9666301958.54"
            ]
          },
          "metadata": {},
          "execution_count": 21
        }
      ]
    },
    {
      "cell_type": "code",
      "source": [
        "# Vamos consultar qual a data mais recente em nosso dataframe.\n",
        "\n",
        "df[\"data\"].max()"
      ],
      "metadata": {
        "colab": {
          "base_uri": "https://localhost:8080/"
        },
        "id": "xayvLwaoOQiM",
        "outputId": "dfeff303-13c5-4d7c-a249-8e5d4a56254c"
      },
      "execution_count": null,
      "outputs": [
        {
          "output_type": "execute_result",
          "data": {
            "text/plain": [
              "Timestamp('2022-10-07 00:00:00')"
            ]
          },
          "metadata": {},
          "execution_count": 22
        }
      ]
    },
    {
      "cell_type": "code",
      "source": [
        "# Vamos criar um novo dataframe somente com as informações dessa data.\n",
        "\n",
        "df_maior_data = df.loc[(df[\"data\"].dt.day == 7) & \n",
        "             (df[\"data\"].dt.month == 10) &\n",
        "             (df[\"data\"].dt.year == 2022)]"
      ],
      "metadata": {
        "id": "2Iyb4z2aOfCE"
      },
      "execution_count": null,
      "outputs": []
    },
    {
      "cell_type": "code",
      "source": [
        "# Vamos consultar qual o volume total do meio circulante naquela data.\n",
        "\n",
        "df_maior_data[\"volume\"].sum()"
      ],
      "metadata": {
        "colab": {
          "base_uri": "https://localhost:8080/"
        },
        "id": "C1YeMSdiPDP1",
        "outputId": "2f3a9d9d-611c-4281-fb4e-c1f3135e6d5b"
      },
      "execution_count": null,
      "outputs": [
        {
          "output_type": "execute_result",
          "data": {
            "text/plain": [
              "324652038874.18"
            ]
          },
          "metadata": {},
          "execution_count": 24
        }
      ]
    },
    {
      "cell_type": "code",
      "source": [
        "# Consultando as quantidades de cada denominação.\n",
        "df_maior_data.groupby(\"denominacao\")[\"quantidade\"].sum()"
      ],
      "metadata": {
        "colab": {
          "base_uri": "https://localhost:8080/"
        },
        "id": "0hoNzrdwLGgu",
        "outputId": "a9a30bb3-23fc-45c9-a73f-d5b8278c8285"
      },
      "execution_count": null,
      "outputs": [
        {
          "output_type": "execute_result",
          "data": {
            "text/plain": [
              "denominacao\n",
              "0.01      3191087458\n",
              "0.05      7488447094\n",
              "0.10      7706296804\n",
              "0.25      3403114986\n",
              "0.50      3451545200\n",
              "1.00      4153502355\n",
              "2.00      1520983294\n",
              "3.00           25000\n",
              "4.00            9000\n",
              "5.00       645065021\n",
              "10.00      581644432\n",
              "20.00      720336650\n",
              "50.00     1855479989\n",
              "100.00    1752954740\n",
              "200.00     110924844\n",
              "Name: quantidade, dtype: int64"
            ]
          },
          "metadata": {},
          "execution_count": 25
        }
      ]
    },
    {
      "cell_type": "code",
      "source": [
        "# Plotando em um gráfico.\n",
        "\n",
        "df_maior_data.groupby(\"denominacao\")[\"quantidade\"].sum().plot.barh(title=\"Quantidade existente x denominação\")\n",
        "plt.xlabel(\"quantidade\")\n",
        "plt.ylabel(\"denominação\");"
      ],
      "metadata": {
        "id": "O-GhHMrM_Xc5"
      },
      "execution_count": null,
      "outputs": []
    },
    {
      "cell_type": "code",
      "source": [
        "# Diferença de montante entre a maior e a menor data.\n",
        "\n",
        "df0 = pd.concat([df_menor_data,df_maior_data]).reset_index()\n",
        "df0[\"ano\"] = df0[\"data\"].dt.year\n"
      ],
      "metadata": {
        "id": "_hlej99XBt6Z"
      },
      "execution_count": null,
      "outputs": []
    },
    {
      "cell_type": "code",
      "source": [
        "# Visualizando a diferença.\n",
        "\n",
        "df0.groupby(\"ano\")[\"volume\"].sum().sort_values(ascending=False).plot.barh()"
      ],
      "metadata": {
        "colab": {
          "base_uri": "https://localhost:8080/",
          "height": 378
        },
        "id": "oalN-Th5HB3L",
        "outputId": "eff1be17-7591-418e-8cbb-feb3535cb97d"
      },
      "execution_count": null,
      "outputs": [
        {
          "output_type": "execute_result",
          "data": {
            "text/plain": [
              "<matplotlib.axes._subplots.AxesSubplot at 0x7f263dab38d0>"
            ]
          },
          "metadata": {},
          "execution_count": 61
        },
        {
          "output_type": "display_data",
          "data": {
            "text/plain": [
              "<Figure size 576x396 with 1 Axes>"
            ],
            "image/png": "[encoded data removed]"
          },
          "metadata": {}
        }
      ]
    },
    {
      "cell_type": "markdown",
      "source": [
        "# A cédula de R$ 200,00"
      ],
      "metadata": {
        "id": "6OHGnlNnaWlV"
      }
    },
    {
      "cell_type": "markdown",
      "source": [
        "![](https://conteudo.imguol.com.br/c/noticias/12/2020/09/02/2-familia-nota-de-r-200-1599069684338_v2_450x450.jpg)\n",
        "\n",
        "No dia 02/09/2020 o Banco Central [lançou](https://agenciabrasil.ebc.com.br/economia/noticia/2020-09/cedula-de-r-200-entra-em-circulacao-hoje) a cédula de R$ 200,00 que está em circulação atualmente e representa a 7ª cédula da 2ª família do real. Vamos ver algumas informações sobre esta cédula."
      ],
      "metadata": {
        "id": "x3KS8fwaKZRY"
      }
    },
    {
      "cell_type": "code",
      "source": [
        "# Vamos criar um dataframe somente com essas informações.\n",
        "\n",
        "df200 = df.loc[(df[\"denominacao\"] == 200.00)].reset_index()\n",
        "df200"
      ],
      "metadata": {
        "colab": {
          "base_uri": "https://localhost:8080/",
          "height": 424
        },
        "id": "9BE3AbhdH4ZT",
        "outputId": "919e85e5-5450-46d9-d4a2-ff1994f615be"
      },
      "execution_count": 110,
      "outputs": [
        {
          "output_type": "execute_result",
          "data": {
            "text/plain": [
              "      index       data                familia  denominacao  quantidade  \\\n",
              "0    356796 2020-09-02  Cédulas - 2a. família       200.00      603995   \n",
              "1    356925 2020-09-03  Cédulas - 2a. família       200.00     3279045   \n",
              "2    357054 2020-09-04  Cédulas - 2a. família       200.00     4774598   \n",
              "3    357183 2020-09-08  Cédulas - 2a. família       200.00     5943413   \n",
              "4    357312 2020-09-09  Cédulas - 2a. família       200.00     6358585   \n",
              "..      ...        ...                    ...          ...         ...   \n",
              "523  424343 2022-10-03  Cédulas - 2a. família       200.00   109105572   \n",
              "524  424474 2022-10-04  Cédulas - 2a. família       200.00   109593059   \n",
              "525  424605 2022-10-05  Cédulas - 2a. família       200.00   110372649   \n",
              "526  424736 2022-10-06  Cédulas - 2a. família       200.00   110924844   \n",
              "527  424867 2022-10-07  Cédulas - 2a. família       200.00   110924844   \n",
              "\n",
              "            volume   ano  mes  dia  \n",
              "0     120799000.00  2020    9    2  \n",
              "1     655809000.00  2020    9    3  \n",
              "2     954919600.00  2020    9    4  \n",
              "3    1188682600.00  2020    9    8  \n",
              "4    1271717000.00  2020    9    9  \n",
              "..             ...   ...  ...  ...  \n",
              "523 21821114400.00  2022   10    3  \n",
              "524 21918611800.00  2022   10    4  \n",
              "525 22074529800.00  2022   10    5  \n",
              "526 22184968800.00  2022   10    6  \n",
              "527 22184968800.00  2022   10    7  \n",
              "\n",
              "[528 rows x 9 columns]"
            ],
            "text/html": [
              "\n",
              "  <div id=\"df-c2b348d8-556d-4e16-ba63-71be73c154ca\">\n",
              "    <div class=\"colab-df-container\">\n",
              "      <div>\n",
              "<style scoped>\n",
              "    .dataframe tbody tr th:only-of-type {\n",
              "        vertical-align: middle;\n",
              "    }\n",
              "\n",
              "    .dataframe tbody tr th {\n",
              "        vertical-align: top;\n",
              "    }\n",
              "\n",
              "    .dataframe thead th {\n",
              "        text-align: right;\n",
              "    }\n",
              "</style>\n",
              "<table border=\"1\" class=\"dataframe\">\n",
              "  <thead>\n",
              "    <tr style=\"text-align: right;\">\n",
              "      <th></th>\n",
              "      <th>index</th>\n",
              "      <th>data</th>\n",
              "      <th>familia</th>\n",
              "      <th>denominacao</th>\n",
              "      <th>quantidade</th>\n",
              "      <th>volume</th>\n",
              "      <th>ano</th>\n",
              "      <th>mes</th>\n",
              "      <th>dia</th>\n",
              "    </tr>\n",
              "  </thead>\n",
              "  <tbody>\n",
              "    <tr>\n",
              "      <th>0</th>\n",
              "      <td>356796</td>\n",
              "      <td>2020-09-02</td>\n",
              "      <td>Cédulas - 2a. família</td>\n",
              "      <td>200.00</td>\n",
              "      <td>603995</td>\n",
              "      <td>120799000.00</td>\n",
              "      <td>2020</td>\n",
              "      <td>9</td>\n",
              "      <td>2</td>\n",
              "    </tr>\n",
              "    <tr>\n",
              "      <th>1</th>\n",
              "      <td>356925</td>\n",
              "      <td>2020-09-03</td>\n",
              "      <td>Cédulas - 2a. família</td>\n",
              "      <td>200.00</td>\n",
              "      <td>3279045</td>\n",
              "      <td>655809000.00</td>\n",
              "      <td>2020</td>\n",
              "      <td>9</td>\n",
              "      <td>3</td>\n",
              "    </tr>\n",
              "    <tr>\n",
              "      <th>2</th>\n",
              "      <td>357054</td>\n",
              "      <td>2020-09-04</td>\n",
              "      <td>Cédulas - 2a. família</td>\n",
              "      <td>200.00</td>\n",
              "      <td>4774598</td>\n",
              "      <td>954919600.00</td>\n",
              "      <td>2020</td>\n",
              "      <td>9</td>\n",
              "      <td>4</td>\n",
              "    </tr>\n",
              "    <tr>\n",
              "      <th>3</th>\n",
              "      <td>357183</td>\n",
              "      <td>2020-09-08</td>\n",
              "      <td>Cédulas - 2a. família</td>\n",
              "      <td>200.00</td>\n",
              "      <td>5943413</td>\n",
              "      <td>1188682600.00</td>\n",
              "      <td>2020</td>\n",
              "      <td>9</td>\n",
              "      <td>8</td>\n",
              "    </tr>\n",
              "    <tr>\n",
              "      <th>4</th>\n",
              "      <td>357312</td>\n",
              "      <td>2020-09-09</td>\n",
              "      <td>Cédulas - 2a. família</td>\n",
              "      <td>200.00</td>\n",
              "      <td>6358585</td>\n",
              "      <td>1271717000.00</td>\n",
              "      <td>2020</td>\n",
              "      <td>9</td>\n",
              "      <td>9</td>\n",
              "    </tr>\n",
              "    <tr>\n",
              "      <th>...</th>\n",
              "      <td>...</td>\n",
              "      <td>...</td>\n",
              "      <td>...</td>\n",
              "      <td>...</td>\n",
              "      <td>...</td>\n",
              "      <td>...</td>\n",
              "      <td>...</td>\n",
              "      <td>...</td>\n",
              "      <td>...</td>\n",
              "    </tr>\n",
              "    <tr>\n",
              "      <th>523</th>\n",
              "      <td>424343</td>\n",
              "      <td>2022-10-03</td>\n",
              "      <td>Cédulas - 2a. família</td>\n",
              "      <td>200.00</td>\n",
              "      <td>109105572</td>\n",
              "      <td>21821114400.00</td>\n",
              "      <td>2022</td>\n",
              "      <td>10</td>\n",
              "      <td>3</td>\n",
              "    </tr>\n",
              "    <tr>\n",
              "      <th>524</th>\n",
              "      <td>424474</td>\n",
              "      <td>2022-10-04</td>\n",
              "      <td>Cédulas - 2a. família</td>\n",
              "      <td>200.00</td>\n",
              "      <td>109593059</td>\n",
              "      <td>21918611800.00</td>\n",
              "      <td>2022</td>\n",
              "      <td>10</td>\n",
              "      <td>4</td>\n",
              "    </tr>\n",
              "    <tr>\n",
              "      <th>525</th>\n",
              "      <td>424605</td>\n",
              "      <td>2022-10-05</td>\n",
              "      <td>Cédulas - 2a. família</td>\n",
              "      <td>200.00</td>\n",
              "      <td>110372649</td>\n",
              "      <td>22074529800.00</td>\n",
              "      <td>2022</td>\n",
              "      <td>10</td>\n",
              "      <td>5</td>\n",
              "    </tr>\n",
              "    <tr>\n",
              "      <th>526</th>\n",
              "      <td>424736</td>\n",
              "      <td>2022-10-06</td>\n",
              "      <td>Cédulas - 2a. família</td>\n",
              "      <td>200.00</td>\n",
              "      <td>110924844</td>\n",
              "      <td>22184968800.00</td>\n",
              "      <td>2022</td>\n",
              "      <td>10</td>\n",
              "      <td>6</td>\n",
              "    </tr>\n",
              "    <tr>\n",
              "      <th>527</th>\n",
              "      <td>424867</td>\n",
              "      <td>2022-10-07</td>\n",
              "      <td>Cédulas - 2a. família</td>\n",
              "      <td>200.00</td>\n",
              "      <td>110924844</td>\n",
              "      <td>22184968800.00</td>\n",
              "      <td>2022</td>\n",
              "      <td>10</td>\n",
              "      <td>7</td>\n",
              "    </tr>\n",
              "  </tbody>\n",
              "</table>\n",
              "<p>528 rows × 9 columns</p>\n",
              "</div>\n",
              "      <button class=\"colab-df-convert\" onclick=\"convertToInteractive('df-c2b348d8-556d-4e16-ba63-71be73c154ca')\"\n",
              "              title=\"Convert this dataframe to an interactive table.\"\n",
              "              style=\"display:none;\">\n",
              "        \n",
              "  <svg xmlns=\"http://www.w3.org/2000/svg\" height=\"24px\"viewBox=\"0 0 24 24\"\n",
              "       width=\"24px\">\n",
              "    <path d=\"M0 0h24v24H0V0z\" fill=\"none\"/>\n",
              "    <path d=\"M18.56 5.44l.94 2.06.94-2.06 2.06-.94-2.06-.94-.94-2.06-.94 2.06-2.06.94zm-11 1L8.5 8.5l.94-2.06 2.06-.94-2.06-.94L8.5 2.5l-.94 2.06-2.06.94zm10 10l.94 2.06.94-2.06 2.06-.94-2.06-.94-.94-2.06-.94 2.06-2.06.94z\"/><path d=\"M17.41 7.96l-1.37-1.37c-.4-.4-.92-.59-1.43-.59-.52 0-1.04.2-1.43.59L10.3 9.45l-7.72 7.72c-.78.78-.78 2.05 0 2.83L4 21.41c.39.39.9.59 1.41.59.51 0 1.02-.2 1.41-.59l7.78-7.78 2.81-2.81c.8-.78.8-2.07 0-2.86zM5.41 20L4 18.59l7.72-7.72 1.47 1.35L5.41 20z\"/>\n",
              "  </svg>\n",
              "      </button>\n",
              "      \n",
              "  <style>\n",
              "    .colab-df-container {\n",
              "      display:flex;\n",
              "      flex-wrap:wrap;\n",
              "      gap: 12px;\n",
              "    }\n",
              "\n",
              "    .colab-df-convert {\n",
              "      background-color: #E8F0FE;\n",
              "      border: none;\n",
              "      border-radius: 50%;\n",
              "      cursor: pointer;\n",
              "      display: none;\n",
              "      fill: #1967D2;\n",
              "      height: 32px;\n",
              "      padding: 0 0 0 0;\n",
              "      width: 32px;\n",
              "    }\n",
              "\n",
              "    .colab-df-convert:hover {\n",
              "      background-color: #E2EBFA;\n",
              "      box-shadow: 0px 1px 2px rgba(60, 64, 67, 0.3), 0px 1px 3px 1px rgba(60, 64, 67, 0.15);\n",
              "      fill: #174EA6;\n",
              "    }\n",
              "\n",
              "    [theme=dark] .colab-df-convert {\n",
              "      background-color: #3B4455;\n",
              "      fill: #D2E3FC;\n",
              "    }\n",
              "\n",
              "    [theme=dark] .colab-df-convert:hover {\n",
              "      background-color: #434B5C;\n",
              "      box-shadow: 0px 1px 3px 1px rgba(0, 0, 0, 0.15);\n",
              "      filter: drop-shadow(0px 1px 2px rgba(0, 0, 0, 0.3));\n",
              "      fill: #FFFFFF;\n",
              "    }\n",
              "  </style>\n",
              "\n",
              "      <script>\n",
              "        const buttonEl =\n",
              "          document.querySelector('#df-c2b348d8-556d-4e16-ba63-71be73c154ca button.colab-df-convert');\n",
              "        buttonEl.style.display =\n",
              "          google.colab.kernel.accessAllowed ? 'block' : 'none';\n",
              "\n",
              "        async function convertToInteractive(key) {\n",
              "          const element = document.querySelector('#df-c2b348d8-556d-4e16-ba63-71be73c154ca');\n",
              "          const dataTable =\n",
              "            await google.colab.kernel.invokeFunction('convertToInteractive',\n",
              "                                                     [key], {});\n",
              "          if (!dataTable) return;\n",
              "\n",
              "          const docLinkHtml = 'Like what you see? Visit the ' +\n",
              "            '<a target=\"_blank\" href=https://colab.research.google.com/notebooks/data_table.ipynb>data table notebook</a>'\n",
              "            + ' to learn more about interactive tables.';\n",
              "          element.innerHTML = '';\n",
              "          dataTable['output_type'] = 'display_data';\n",
              "          await google.colab.output.renderOutput(dataTable, element);\n",
              "          const docLink = document.createElement('div');\n",
              "          docLink.innerHTML = docLinkHtml;\n",
              "          element.appendChild(docLink);\n",
              "        }\n",
              "      </script>\n",
              "    </div>\n",
              "  </div>\n",
              "  "
            ]
          },
          "metadata": {},
          "execution_count": 110
        }
      ]
    },
    {
      "cell_type": "code",
      "source": [
        "# Vamos verificar o volume médio diário das cédulas de R$ 200,00 por ano.\n",
        "\n",
        "df200.groupby(\"ano\")[\"volume\"].mean().sort_values(ascending=True)"
      ],
      "metadata": {
        "colab": {
          "base_uri": "https://localhost:8080/"
        },
        "id": "HWPOFijcOHWP",
        "outputId": "ef6945ee-36d6-46c5-db82-13eae294b30d"
      },
      "execution_count": 111,
      "outputs": [
        {
          "output_type": "execute_result",
          "data": {
            "text/plain": [
              "ano\n",
              "2020    5260373713.25\n",
              "2021   14558277572.11\n",
              "2022   20191196624.74\n",
              "Name: volume, dtype: float64"
            ]
          },
          "metadata": {},
          "execution_count": 111
        }
      ]
    },
    {
      "cell_type": "code",
      "source": [
        "# Plotando as informações acima em um gráfico.\n",
        "\n",
        "df200.groupby(\"ano\")[\"volume\"].mean().sort_values(ascending=False).plot.barh(title=\"Volume médio por ano\")\n",
        "plt.xlabel(\"Volume\")\n",
        "plt.ylabel(\"Ano\");"
      ],
      "metadata": {
        "colab": {
          "base_uri": "https://localhost:8080/",
          "height": 376
        },
        "id": "rr9--BcgLRkv",
        "outputId": "f22d04f4-6c91-480b-e399-d97cbe8229ba"
      },
      "execution_count": 79,
      "outputs": [
        {
          "output_type": "display_data",
          "data": {
            "text/plain": [
              "<Figure size 576x396 with 1 Axes>"
            ],
            "image/png": "[encoded data removed]"
          },
          "metadata": {}
        }
      ]
    },
    {
      "cell_type": "markdown",
      "source": [
        "Futuramente este conjunto de dados será descontinuado. Um novo conjunto de dados foi criado para substituí-lo: https://dadosabertos.bcb.gov.br/dataset/dinheiro-em-circulao"
      ],
      "metadata": {
        "id": "oKl5c4wyln2X"
      }
    }
  ]
}